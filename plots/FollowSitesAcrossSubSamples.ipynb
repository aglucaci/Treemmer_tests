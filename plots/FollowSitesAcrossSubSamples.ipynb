{
 "cells": [
  {
   "cell_type": "code",
   "execution_count": 1,
   "id": "embedded-destiny",
   "metadata": {},
   "outputs": [],
   "source": [
    "# Imports\n",
    "import sys\n",
    "import os\n",
    "import json\n",
    "import pandas as pd\n",
    "import matplotlib.pyplot as plt "
   ]
  },
  {
   "cell_type": "code",
   "execution_count": 2,
   "id": "abandoned-david",
   "metadata": {},
   "outputs": [],
   "source": [
    "# FEL\n",
    "path = \"../FEL\"\n",
    "files = [path+\"/\"+f.name for f in os.scandir(path) if f.name.endswith(\".FEL.json\")]"
   ]
  },
  {
   "cell_type": "code",
   "execution_count": 4,
   "id": "framed-gauge",
   "metadata": {},
   "outputs": [],
   "source": [
    "data_dict = {}\n",
    "pvalue_threshold = 0.1\n",
    "\n",
    "def return_positive_sites_count(MLE):\n",
    "    global pvalue_threshold\n",
    "    data_list = []\n",
    "    count = 0\n",
    "    for n, item in enumerate(MLE):\n",
    "        if float(item[4] < pvalue_threshold): \n",
    "            #print(item)\n",
    "            if float(item[0]) == 0.0:\n",
    "                omega = 10000\n",
    "            else:\n",
    "                omega = float(item[1])/float(item[0])\n",
    "            #end if\n",
    "            \n",
    "            if omega > 1.0:\n",
    "                count += 1\n",
    "                site = n + 1\n",
    "                data_list.append(site)\n",
    "            #end if\n",
    "        #end if\n",
    "    #end for\n",
    "    return count, data_list\n",
    "#end method\n",
    "\n",
    "def return_negative_sites_count(MLE):\n",
    "    global pvalue_threshold\n",
    "    data_list = []\n",
    "    count = 0\n",
    "    for n, item in enumerate(MLE):\n",
    "        if float(item[4] < pvalue_threshold): \n",
    "            #print(item)\n",
    "            if float(item[0]) == 0.0:\n",
    "                omega = 10000\n",
    "            else:\n",
    "                omega = float(item[1])/float(item[0])\n",
    "            #end if\n",
    "            \n",
    "            if omega < 1.0:\n",
    "                count += 1\n",
    "                site = n + 1\n",
    "                data_list.append(site)\n",
    "            #end if\n",
    "        #end if\n",
    "    #end for\n",
    "    return count, data_list\n",
    "#end method\n",
    "\n",
    "\n",
    "# Main -------------------------------------------------\n",
    "count = 1\n",
    "\n",
    "for filename in files:\n",
    "    if os.stat(filename).st_size == 0: continue\n",
    "    with open(filename, \"r\") as fh:\n",
    "        json_data = json.load(fh)\n",
    "    #end with\n",
    "    num_seqs = json_data[\"input\"][\"number of sequences\"]\n",
    "    num_sites = json_data[\"input\"][\"number of sites\"]\n",
    "    #print(filename.split(\"/\")[-1], num_seqs, num_sites)\n",
    "    \n",
    "    positive_sites, positive_sites_list = return_positive_sites_count(json_data[\"MLE\"][\"content\"][\"0\"])\n",
    "    negative_sites, negative_sites_list = return_negative_sites_count(json_data[\"MLE\"][\"content\"][\"0\"])\n",
    "    \n",
    "    \n",
    "    # p-values\n",
    "    p_values_list = []\n",
    "    for item in json_data[\"MLE\"][\"content\"][\"0\"]:\n",
    "        p_value = item[4]\n",
    "        p_values_list.append(p_value)\n",
    "    #end for\n",
    "    \n",
    "    #data_dict[filename.split(\"/\")[-1]] = {\"num_seqs\": num_seqs, \"negative_sites\": negative_sites, \"positive_sites\" : positive_sites}\n",
    "    #data_dict[filename.split(\"/\")[-1]] = {\"num_seqs\": num_seqs, \"negative_sites\": negative_sites, \"positive_sites\" : positive_sites}\n",
    "    data_dict[count] = {\"Filename\":filename.split(\"/\")[-1],\n",
    "                        \"num_seqs\": num_seqs, \n",
    "                        \"num_sites\" :num_sites,\n",
    "                        \"negative_sites\": negative_sites, \n",
    "                        \"positive_sites\" : positive_sites,\n",
    "                        \"positive_sites_list\" : positive_sites_list,\n",
    "                        \"negative_sites_list\" : negative_sites_list,\n",
    "                        \"p_values\":p_values_list}\n",
    "            \n",
    "    count += 1\n",
    "#end for"
   ]
  },
  {
   "cell_type": "code",
   "execution_count": 5,
   "id": "voluntary-course",
   "metadata": {},
   "outputs": [
    {
     "data": {
      "text/html": [
       "<div>\n",
       "<style scoped>\n",
       "    .dataframe tbody tr th:only-of-type {\n",
       "        vertical-align: middle;\n",
       "    }\n",
       "\n",
       "    .dataframe tbody tr th {\n",
       "        vertical-align: top;\n",
       "    }\n",
       "\n",
       "    .dataframe thead th {\n",
       "        text-align: right;\n",
       "    }\n",
       "</style>\n",
       "<table border=\"1\" class=\"dataframe\">\n",
       "  <thead>\n",
       "    <tr style=\"text-align: right;\">\n",
       "      <th></th>\n",
       "      <th>Filename</th>\n",
       "      <th>num_seqs</th>\n",
       "      <th>num_sites</th>\n",
       "      <th>negative_sites</th>\n",
       "      <th>positive_sites</th>\n",
       "      <th>positive_sites_list</th>\n",
       "      <th>negative_sites_list</th>\n",
       "      <th>p_values</th>\n",
       "    </tr>\n",
       "  </thead>\n",
       "  <tbody>\n",
       "    <tr>\n",
       "      <th>1</th>\n",
       "      <td>TP53_refseq_cds_CodonAligned.fas_subsampled_11...</td>\n",
       "      <td>87</td>\n",
       "      <td>587</td>\n",
       "      <td>349</td>\n",
       "      <td>3</td>\n",
       "      <td>[71, 73, 94]</td>\n",
       "      <td>[1, 2, 3, 6, 8, 9, 10, 11, 12, 13, 20, 21, 22,...</td>\n",
       "      <td>[0.00110509326940389, 3.460658653109405e-05, 0...</td>\n",
       "    </tr>\n",
       "    <tr>\n",
       "      <th>2</th>\n",
       "      <td>TP53_refseq_cds_CodonAligned.fas_subsampled_8....</td>\n",
       "      <td>196</td>\n",
       "      <td>633</td>\n",
       "      <td>359</td>\n",
       "      <td>3</td>\n",
       "      <td>[86, 95, 206]</td>\n",
       "      <td>[2, 3, 6, 8, 9, 10, 11, 12, 13, 20, 21, 22, 23...</td>\n",
       "      <td>[0.162167414319616, 5.200578395980759e-05, 0.0...</td>\n",
       "    </tr>\n",
       "    <tr>\n",
       "      <th>3</th>\n",
       "      <td>TP53_refseq_cds_CodonAligned.fas_subsampled_17...</td>\n",
       "      <td>78</td>\n",
       "      <td>478</td>\n",
       "      <td>311</td>\n",
       "      <td>2</td>\n",
       "      <td>[173, 401]</td>\n",
       "      <td>[1, 2, 3, 4, 6, 9, 10, 11, 13, 14, 16, 17, 27,...</td>\n",
       "      <td>[0.0003736671245355705, 0.004205080485460644, ...</td>\n",
       "    </tr>\n",
       "    <tr>\n",
       "      <th>4</th>\n",
       "      <td>TP53_refseq_cds_CodonAligned.fas_subsampled_58...</td>\n",
       "      <td>146</td>\n",
       "      <td>644</td>\n",
       "      <td>350</td>\n",
       "      <td>1</td>\n",
       "      <td>[96]</td>\n",
       "      <td>[2, 3, 4, 8, 9, 10, 11, 15, 22, 23, 24, 25, 26...</td>\n",
       "      <td>[1, 0.06108360290262937, 5.073214312534269e-06...</td>\n",
       "    </tr>\n",
       "    <tr>\n",
       "      <th>5</th>\n",
       "      <td>TP53_refseq_cds_CodonAligned.fas_subsampled_14...</td>\n",
       "      <td>64</td>\n",
       "      <td>590</td>\n",
       "      <td>337</td>\n",
       "      <td>1</td>\n",
       "      <td>[50]</td>\n",
       "      <td>[1, 2, 3, 6, 7, 11, 14, 22, 23, 24, 25, 26, 27...</td>\n",
       "      <td>[0.0313860511218268, 4.31537549505645e-06, 0.0...</td>\n",
       "    </tr>\n",
       "    <tr>\n",
       "      <th>...</th>\n",
       "      <td>...</td>\n",
       "      <td>...</td>\n",
       "      <td>...</td>\n",
       "      <td>...</td>\n",
       "      <td>...</td>\n",
       "      <td>...</td>\n",
       "      <td>...</td>\n",
       "      <td>...</td>\n",
       "    </tr>\n",
       "    <tr>\n",
       "      <th>138</th>\n",
       "      <td>TP53_refseq_cds_CodonAligned.fas_subsampled_13...</td>\n",
       "      <td>66</td>\n",
       "      <td>584</td>\n",
       "      <td>335</td>\n",
       "      <td>2</td>\n",
       "      <td>[67, 68]</td>\n",
       "      <td>[1, 2, 3, 7, 8, 9, 11, 14, 22, 23, 24, 25, 27,...</td>\n",
       "      <td>[0.03188447377278592, 1.020350595404285e-05, 0...</td>\n",
       "    </tr>\n",
       "    <tr>\n",
       "      <th>139</th>\n",
       "      <td>TP53_refseq_cds_CodonAligned.fas_subsampled_23...</td>\n",
       "      <td>181</td>\n",
       "      <td>633</td>\n",
       "      <td>357</td>\n",
       "      <td>3</td>\n",
       "      <td>[86, 95, 206]</td>\n",
       "      <td>[2, 3, 6, 8, 9, 10, 11, 12, 13, 20, 21, 22, 23...</td>\n",
       "      <td>[0.1682956110913001, 0.0001635819373404512, 0....</td>\n",
       "    </tr>\n",
       "    <tr>\n",
       "      <th>140</th>\n",
       "      <td>TP53_refseq_cds_CodonAligned.fas_subsampled_30...</td>\n",
       "      <td>174</td>\n",
       "      <td>630</td>\n",
       "      <td>351</td>\n",
       "      <td>1</td>\n",
       "      <td>[91]</td>\n",
       "      <td>[3, 4, 8, 9, 10, 11, 15, 22, 23, 24, 25, 26, 3...</td>\n",
       "      <td>[1, 0.8349908592382838, 2.789825841231774e-06,...</td>\n",
       "    </tr>\n",
       "    <tr>\n",
       "      <th>141</th>\n",
       "      <td>TP53_refseq_cds_CodonAligned.fas_subsampled_87...</td>\n",
       "      <td>117</td>\n",
       "      <td>622</td>\n",
       "      <td>347</td>\n",
       "      <td>4</td>\n",
       "      <td>[85, 86, 87, 96]</td>\n",
       "      <td>[2, 3, 4, 8, 9, 10, 11, 15, 22, 23, 24, 25, 26...</td>\n",
       "      <td>[1, 0.02915253386938821, 5.558858862886318e-06...</td>\n",
       "    </tr>\n",
       "    <tr>\n",
       "      <th>142</th>\n",
       "      <td>TP53_refseq_cds_CodonAligned.fas_subsampled_94...</td>\n",
       "      <td>110</td>\n",
       "      <td>612</td>\n",
       "      <td>347</td>\n",
       "      <td>4</td>\n",
       "      <td>[75, 77, 112, 139]</td>\n",
       "      <td>[2, 3, 4, 8, 9, 10, 11, 15, 22, 23, 24, 25, 26...</td>\n",
       "      <td>[1, 0.0006262970914587829, 3.514565219520094e-...</td>\n",
       "    </tr>\n",
       "  </tbody>\n",
       "</table>\n",
       "<p>142 rows × 8 columns</p>\n",
       "</div>"
      ],
      "text/plain": [
       "                                              Filename  num_seqs  num_sites  \\\n",
       "1    TP53_refseq_cds_CodonAligned.fas_subsampled_11...        87        587   \n",
       "2    TP53_refseq_cds_CodonAligned.fas_subsampled_8....       196        633   \n",
       "3    TP53_refseq_cds_CodonAligned.fas_subsampled_17...        78        478   \n",
       "4    TP53_refseq_cds_CodonAligned.fas_subsampled_58...       146        644   \n",
       "5    TP53_refseq_cds_CodonAligned.fas_subsampled_14...        64        590   \n",
       "..                                                 ...       ...        ...   \n",
       "138  TP53_refseq_cds_CodonAligned.fas_subsampled_13...        66        584   \n",
       "139  TP53_refseq_cds_CodonAligned.fas_subsampled_23...       181        633   \n",
       "140  TP53_refseq_cds_CodonAligned.fas_subsampled_30...       174        630   \n",
       "141  TP53_refseq_cds_CodonAligned.fas_subsampled_87...       117        622   \n",
       "142  TP53_refseq_cds_CodonAligned.fas_subsampled_94...       110        612   \n",
       "\n",
       "     negative_sites  positive_sites positive_sites_list  \\\n",
       "1               349               3        [71, 73, 94]   \n",
       "2               359               3       [86, 95, 206]   \n",
       "3               311               2          [173, 401]   \n",
       "4               350               1                [96]   \n",
       "5               337               1                [50]   \n",
       "..              ...             ...                 ...   \n",
       "138             335               2            [67, 68]   \n",
       "139             357               3       [86, 95, 206]   \n",
       "140             351               1                [91]   \n",
       "141             347               4    [85, 86, 87, 96]   \n",
       "142             347               4  [75, 77, 112, 139]   \n",
       "\n",
       "                                   negative_sites_list  \\\n",
       "1    [1, 2, 3, 6, 8, 9, 10, 11, 12, 13, 20, 21, 22,...   \n",
       "2    [2, 3, 6, 8, 9, 10, 11, 12, 13, 20, 21, 22, 23...   \n",
       "3    [1, 2, 3, 4, 6, 9, 10, 11, 13, 14, 16, 17, 27,...   \n",
       "4    [2, 3, 4, 8, 9, 10, 11, 15, 22, 23, 24, 25, 26...   \n",
       "5    [1, 2, 3, 6, 7, 11, 14, 22, 23, 24, 25, 26, 27...   \n",
       "..                                                 ...   \n",
       "138  [1, 2, 3, 7, 8, 9, 11, 14, 22, 23, 24, 25, 27,...   \n",
       "139  [2, 3, 6, 8, 9, 10, 11, 12, 13, 20, 21, 22, 23...   \n",
       "140  [3, 4, 8, 9, 10, 11, 15, 22, 23, 24, 25, 26, 3...   \n",
       "141  [2, 3, 4, 8, 9, 10, 11, 15, 22, 23, 24, 25, 26...   \n",
       "142  [2, 3, 4, 8, 9, 10, 11, 15, 22, 23, 24, 25, 26...   \n",
       "\n",
       "                                              p_values  \n",
       "1    [0.00110509326940389, 3.460658653109405e-05, 0...  \n",
       "2    [0.162167414319616, 5.200578395980759e-05, 0.0...  \n",
       "3    [0.0003736671245355705, 0.004205080485460644, ...  \n",
       "4    [1, 0.06108360290262937, 5.073214312534269e-06...  \n",
       "5    [0.0313860511218268, 4.31537549505645e-06, 0.0...  \n",
       "..                                                 ...  \n",
       "138  [0.03188447377278592, 1.020350595404285e-05, 0...  \n",
       "139  [0.1682956110913001, 0.0001635819373404512, 0....  \n",
       "140  [1, 0.8349908592382838, 2.789825841231774e-06,...  \n",
       "141  [1, 0.02915253386938821, 5.558858862886318e-06...  \n",
       "142  [1, 0.0006262970914587829, 3.514565219520094e-...  \n",
       "\n",
       "[142 rows x 8 columns]"
      ]
     },
     "execution_count": 5,
     "metadata": {},
     "output_type": "execute_result"
    }
   ],
   "source": [
    "df = pd.DataFrame.from_dict(data_dict, orient='index')\n",
    "df"
   ]
  },
  {
   "cell_type": "code",
   "execution_count": 31,
   "id": "muslim-camel",
   "metadata": {},
   "outputs": [
    {
     "data": {
      "text/html": [
       "<div>\n",
       "<style scoped>\n",
       "    .dataframe tbody tr th:only-of-type {\n",
       "        vertical-align: middle;\n",
       "    }\n",
       "\n",
       "    .dataframe tbody tr th {\n",
       "        vertical-align: top;\n",
       "    }\n",
       "\n",
       "    .dataframe thead th {\n",
       "        text-align: right;\n",
       "    }\n",
       "</style>\n",
       "<table border=\"1\" class=\"dataframe\">\n",
       "  <thead>\n",
       "    <tr style=\"text-align: right;\">\n",
       "      <th></th>\n",
       "      <th>Filename</th>\n",
       "      <th>num_seqs</th>\n",
       "      <th>num_sites</th>\n",
       "      <th>negative_sites</th>\n",
       "      <th>positive_sites</th>\n",
       "      <th>positive_sites_list</th>\n",
       "      <th>negative_sites_list</th>\n",
       "      <th>p_values</th>\n",
       "    </tr>\n",
       "  </thead>\n",
       "  <tbody>\n",
       "    <tr>\n",
       "      <th>110</th>\n",
       "      <td>TP53_refseq_cds_CodonAligned.fas_subsampled_1....</td>\n",
       "      <td>203</td>\n",
       "      <td>650</td>\n",
       "      <td>361</td>\n",
       "      <td>2</td>\n",
       "      <td>[66, 126]</td>\n",
       "      <td>[12, 13, 14, 16, 17, 18, 19, 24, 25, 26, 27, 2...</td>\n",
       "      <td>[0.968724044905393, 1, 1, 1, 1, 1, 1, 0.584918...</td>\n",
       "    </tr>\n",
       "    <tr>\n",
       "      <th>12</th>\n",
       "      <td>TP53_refseq_cds_CodonAligned.fas_subsampled_2....</td>\n",
       "      <td>202</td>\n",
       "      <td>648</td>\n",
       "      <td>360</td>\n",
       "      <td>4</td>\n",
       "      <td>[62, 72, 223, 241]</td>\n",
       "      <td>[12, 13, 14, 16, 17, 18, 19, 21, 24, 25, 26, 2...</td>\n",
       "      <td>[1, 1, 1, 1, 1, 1, 0.2782054494629715, 0.72962...</td>\n",
       "    </tr>\n",
       "    <tr>\n",
       "      <th>45</th>\n",
       "      <td>TP53_refseq_cds_CodonAligned.fas_subsampled_3....</td>\n",
       "      <td>201</td>\n",
       "      <td>650</td>\n",
       "      <td>364</td>\n",
       "      <td>2</td>\n",
       "      <td>[66, 126]</td>\n",
       "      <td>[12, 13, 14, 16, 17, 18, 19, 24, 25, 26, 27, 2...</td>\n",
       "      <td>[0.9686695304596649, 1, 1, 1, 1, 1, 1, 0.58141...</td>\n",
       "    </tr>\n",
       "    <tr>\n",
       "      <th>9</th>\n",
       "      <td>TP53_refseq_cds_CodonAligned.fas_subsampled_4....</td>\n",
       "      <td>200</td>\n",
       "      <td>631</td>\n",
       "      <td>357</td>\n",
       "      <td>3</td>\n",
       "      <td>[107, 206, 224]</td>\n",
       "      <td>[12, 13, 14, 16, 17, 18, 19, 24, 25, 26, 27, 2...</td>\n",
       "      <td>[1, 1, 1, 1, 1, 1, 0.2804679708164233, 0.72706...</td>\n",
       "    </tr>\n",
       "    <tr>\n",
       "      <th>48</th>\n",
       "      <td>TP53_refseq_cds_CodonAligned.fas_subsampled_5....</td>\n",
       "      <td>199</td>\n",
       "      <td>631</td>\n",
       "      <td>350</td>\n",
       "      <td>1</td>\n",
       "      <td>[88]</td>\n",
       "      <td>[2, 3, 7, 8, 9, 10, 14, 21, 22, 23, 24, 25, 35...</td>\n",
       "      <td>[0.1816939216486425, 7.682811292841762e-05, 0....</td>\n",
       "    </tr>\n",
       "    <tr>\n",
       "      <th>...</th>\n",
       "      <td>...</td>\n",
       "      <td>...</td>\n",
       "      <td>...</td>\n",
       "      <td>...</td>\n",
       "      <td>...</td>\n",
       "      <td>...</td>\n",
       "      <td>...</td>\n",
       "      <td>...</td>\n",
       "    </tr>\n",
       "    <tr>\n",
       "      <th>138</th>\n",
       "      <td>TP53_refseq_cds_CodonAligned.fas_subsampled_13...</td>\n",
       "      <td>66</td>\n",
       "      <td>584</td>\n",
       "      <td>335</td>\n",
       "      <td>2</td>\n",
       "      <td>[67, 68]</td>\n",
       "      <td>[1, 2, 3, 7, 8, 9, 11, 14, 22, 23, 24, 25, 27,...</td>\n",
       "      <td>[0.03188447377278592, 1.020350595404285e-05, 0...</td>\n",
       "    </tr>\n",
       "    <tr>\n",
       "      <th>119</th>\n",
       "      <td>TP53_refseq_cds_CodonAligned.fas_subsampled_14...</td>\n",
       "      <td>65</td>\n",
       "      <td>591</td>\n",
       "      <td>329</td>\n",
       "      <td>1</td>\n",
       "      <td>[68]</td>\n",
       "      <td>[1, 2, 3, 7, 8, 11, 14, 22, 23, 24, 25, 27, 28...</td>\n",
       "      <td>[0.03004312554847077, 9.464697353633866e-06, 0...</td>\n",
       "    </tr>\n",
       "    <tr>\n",
       "      <th>5</th>\n",
       "      <td>TP53_refseq_cds_CodonAligned.fas_subsampled_14...</td>\n",
       "      <td>64</td>\n",
       "      <td>590</td>\n",
       "      <td>337</td>\n",
       "      <td>1</td>\n",
       "      <td>[50]</td>\n",
       "      <td>[1, 2, 3, 6, 7, 11, 14, 22, 23, 24, 25, 26, 27...</td>\n",
       "      <td>[0.0313860511218268, 4.31537549505645e-06, 0.0...</td>\n",
       "    </tr>\n",
       "    <tr>\n",
       "      <th>37</th>\n",
       "      <td>TP53_refseq_cds_CodonAligned.fas_subsampled_14...</td>\n",
       "      <td>63</td>\n",
       "      <td>581</td>\n",
       "      <td>327</td>\n",
       "      <td>2</td>\n",
       "      <td>[50, 136]</td>\n",
       "      <td>[1, 2, 3, 6, 7, 11, 14, 22, 23, 24, 25, 27, 28...</td>\n",
       "      <td>[0.02960516856054973, 6.592903831648123e-06, 0...</td>\n",
       "    </tr>\n",
       "    <tr>\n",
       "      <th>86</th>\n",
       "      <td>TP53_refseq_cds_CodonAligned.fas_subsampled_14...</td>\n",
       "      <td>46</td>\n",
       "      <td>506</td>\n",
       "      <td>303</td>\n",
       "      <td>0</td>\n",
       "      <td>[]</td>\n",
       "      <td>[2, 3, 4, 8, 15, 17, 18, 19, 20, 21, 22, 23, 2...</td>\n",
       "      <td>[1, 0.04664659733330012, 0.001397437079516339,...</td>\n",
       "    </tr>\n",
       "  </tbody>\n",
       "</table>\n",
       "<p>142 rows × 8 columns</p>\n",
       "</div>"
      ],
      "text/plain": [
       "                                              Filename  num_seqs  num_sites  \\\n",
       "110  TP53_refseq_cds_CodonAligned.fas_subsampled_1....       203        650   \n",
       "12   TP53_refseq_cds_CodonAligned.fas_subsampled_2....       202        648   \n",
       "45   TP53_refseq_cds_CodonAligned.fas_subsampled_3....       201        650   \n",
       "9    TP53_refseq_cds_CodonAligned.fas_subsampled_4....       200        631   \n",
       "48   TP53_refseq_cds_CodonAligned.fas_subsampled_5....       199        631   \n",
       "..                                                 ...       ...        ...   \n",
       "138  TP53_refseq_cds_CodonAligned.fas_subsampled_13...        66        584   \n",
       "119  TP53_refseq_cds_CodonAligned.fas_subsampled_14...        65        591   \n",
       "5    TP53_refseq_cds_CodonAligned.fas_subsampled_14...        64        590   \n",
       "37   TP53_refseq_cds_CodonAligned.fas_subsampled_14...        63        581   \n",
       "86   TP53_refseq_cds_CodonAligned.fas_subsampled_14...        46        506   \n",
       "\n",
       "     negative_sites  positive_sites positive_sites_list  \\\n",
       "110             361               2           [66, 126]   \n",
       "12              360               4  [62, 72, 223, 241]   \n",
       "45              364               2           [66, 126]   \n",
       "9               357               3     [107, 206, 224]   \n",
       "48              350               1                [88]   \n",
       "..              ...             ...                 ...   \n",
       "138             335               2            [67, 68]   \n",
       "119             329               1                [68]   \n",
       "5               337               1                [50]   \n",
       "37              327               2           [50, 136]   \n",
       "86              303               0                  []   \n",
       "\n",
       "                                   negative_sites_list  \\\n",
       "110  [12, 13, 14, 16, 17, 18, 19, 24, 25, 26, 27, 2...   \n",
       "12   [12, 13, 14, 16, 17, 18, 19, 21, 24, 25, 26, 2...   \n",
       "45   [12, 13, 14, 16, 17, 18, 19, 24, 25, 26, 27, 2...   \n",
       "9    [12, 13, 14, 16, 17, 18, 19, 24, 25, 26, 27, 2...   \n",
       "48   [2, 3, 7, 8, 9, 10, 14, 21, 22, 23, 24, 25, 35...   \n",
       "..                                                 ...   \n",
       "138  [1, 2, 3, 7, 8, 9, 11, 14, 22, 23, 24, 25, 27,...   \n",
       "119  [1, 2, 3, 7, 8, 11, 14, 22, 23, 24, 25, 27, 28...   \n",
       "5    [1, 2, 3, 6, 7, 11, 14, 22, 23, 24, 25, 26, 27...   \n",
       "37   [1, 2, 3, 6, 7, 11, 14, 22, 23, 24, 25, 27, 28...   \n",
       "86   [2, 3, 4, 8, 15, 17, 18, 19, 20, 21, 22, 23, 2...   \n",
       "\n",
       "                                              p_values  \n",
       "110  [0.968724044905393, 1, 1, 1, 1, 1, 1, 0.584918...  \n",
       "12   [1, 1, 1, 1, 1, 1, 0.2782054494629715, 0.72962...  \n",
       "45   [0.9686695304596649, 1, 1, 1, 1, 1, 1, 0.58141...  \n",
       "9    [1, 1, 1, 1, 1, 1, 0.2804679708164233, 0.72706...  \n",
       "48   [0.1816939216486425, 7.682811292841762e-05, 0....  \n",
       "..                                                 ...  \n",
       "138  [0.03188447377278592, 1.020350595404285e-05, 0...  \n",
       "119  [0.03004312554847077, 9.464697353633866e-06, 0...  \n",
       "5    [0.0313860511218268, 4.31537549505645e-06, 0.0...  \n",
       "37   [0.02960516856054973, 6.592903831648123e-06, 0...  \n",
       "86   [1, 0.04664659733330012, 0.001397437079516339,...  \n",
       "\n",
       "[142 rows x 8 columns]"
      ]
     },
     "execution_count": 31,
     "metadata": {},
     "output_type": "execute_result"
    }
   ],
   "source": [
    "df = df.sort_values(by=['num_seqs'], ascending=False)\n",
    "df"
   ]
  },
  {
   "cell_type": "code",
   "execution_count": 17,
   "id": "understanding-worry",
   "metadata": {},
   "outputs": [
    {
     "data": {
      "text/plain": [
       "<AxesSubplot:xlabel='num_seqs', ylabel='num_sites'>"
      ]
     },
     "execution_count": 17,
     "metadata": {},
     "output_type": "execute_result"
    },
    {
     "data": {
      "image/png": "[encoded data removed]",
      "text/plain": [
       "<Figure size 432x288 with 1 Axes>"
      ]
     },
     "metadata": {
      "needs_background": "light"
     },
     "output_type": "display_data"
    }
   ],
   "source": [
    "df.plot(x=\"num_seqs\", y=\"num_sites\", kind=\"scatter\")"
   ]
  },
  {
   "cell_type": "code",
   "execution_count": 10,
   "id": "athletic-positive",
   "metadata": {},
   "outputs": [
    {
     "data": {
      "text/plain": [
       "<AxesSubplot:>"
      ]
     },
     "execution_count": 10,
     "metadata": {},
     "output_type": "execute_result"
    },
    {
     "data": {
      "image/png": "[encoded data removed]",
      "text/plain": [
       "<Figure size 432x288 with 1 Axes>"
      ]
     },
     "metadata": {
      "needs_background": "light"
     },
     "output_type": "display_data"
    }
   ],
   "source": [
    "df[\"positive_sites_list\"].hist()"
   ]
  },
  {
   "cell_type": "code",
   "execution_count": 11,
   "id": "assured-theory",
   "metadata": {},
   "outputs": [
    {
     "data": {
      "text/plain": [
       "<AxesSubplot:>"
      ]
     },
     "execution_count": 11,
     "metadata": {},
     "output_type": "execute_result"
    },
    {
     "data": {
      "image/png": "[encoded data removed]",
      "text/plain": [
       "<Figure size 432x288 with 1 Axes>"
      ]
     },
     "metadata": {
      "needs_background": "light"
     },
     "output_type": "display_data"
    }
   ],
   "source": [
    "df[\"negative_sites_list\"].hist()"
   ]
  },
  {
   "cell_type": "code",
   "execution_count": 18,
   "id": "humanitarian-wealth",
   "metadata": {},
   "outputs": [
    {
     "data": {
      "application/vnd.plotly.v1+json": {
       "config": {
        "plotlyServerURL": "https://plot.ly"
       },
       "data": [
        {
         "alignmentgroup": "True",
         "bingroup": "x",
         "hovertemplate": "positive_sites_list=%{x}<br>count=%{y}<extra></extra>",
         "legendgroup": "",
         "marker": {
          "color": "#636efa"
         },
         "name": "",
         "offsetgroup": "",
         "orientation": "v",
         "showlegend": false,
         "type": "histogram",
         "x": [
          [
           66,
           126
          ],
          [
           62,
           72,
           223,
           241
          ],
          [
           66,
           126
          ],
          [
           107,
           206,
           224
          ],
          [
           88
          ],
          [
           88
          ],
          [
           88
          ],
          [
           86,
           95,
           206
          ],
          [
           86,
           95,
           206
          ],
          [
           86,
           95,
           206
          ],
          [
           86,
           95,
           206
          ],
          [
           86,
           95,
           206
          ],
          [
           86,
           95,
           206
          ],
          [
           86,
           95,
           206
          ],
          [
           86,
           95,
           206
          ],
          [
           86,
           95,
           206
          ],
          [
           86,
           95,
           206
          ],
          [
           86,
           95,
           206
          ],
          [
           86,
           95,
           206
          ],
          [
           86,
           95,
           206
          ],
          [
           86,
           95,
           206
          ],
          [
           87,
           96,
           207
          ],
          [
           90,
           201
          ],
          [
           90,
           201
          ],
          [
           90,
           201
          ],
          [
           91
          ],
          [
           91
          ],
          [
           91
          ],
          [
           91
          ],
          [
           91,
           192
          ],
          [
           91,
           192
          ],
          [
           90
          ],
          [
           90
          ],
          [
           90
          ],
          [
           90
          ],
          [
           90
          ],
          [
           84,
           86
          ],
          [
           91
          ],
          [
           91
          ],
          [
           91
          ],
          [
           95,
           97
          ],
          [
           89,
           95
          ],
          [
           95,
           97
          ],
          [
           95,
           97
          ],
          [
           95,
           97,
           199
          ],
          [
           88,
           90
          ],
          [
           88,
           90,
           123
          ],
          [
           101,
           103,
           132
          ],
          [
           101,
           103,
           132
          ],
          [
           101,
           103,
           132
          ],
          [
           101,
           103,
           132
          ],
          [
           96
          ],
          [
           96
          ],
          [
           96
          ],
          [
           96
          ],
          [
           96
          ],
          [
           96,
           131,
           207
          ],
          [
           96,
           131,
           207
          ],
          [
           96,
           131,
           208
          ],
          [
           96,
           128,
           205
          ],
          [
           94,
           96,
           122
          ],
          [
           94,
           96,
           122
          ],
          [
           96,
           102,
           107,
           125,
           158
          ],
          [
           89,
           104
          ],
          [
           94,
           124
          ],
          [
           95,
           96,
           107,
           124,
           155
          ],
          [
           101,
           108,
           199
          ],
          [
           101,
           108,
           199
          ],
          [
           101,
           108,
           199
          ],
          [
           99,
           124
          ],
          [
           98,
           105
          ],
          [
           98,
           105
          ],
          [
           99,
           106
          ],
          [
           86,
           87,
           88,
           95,
           114
          ],
          [
           84,
           85,
           86,
           187
          ],
          [
           84,
           85,
           86,
           187
          ],
          [
           84,
           86
          ],
          [
           84,
           86
          ],
          [
           85,
           87
          ],
          [
           85,
           87,
           121
          ],
          [
           89
          ],
          [
           86,
           97
          ],
          [
           88,
           95
          ],
          [
           84,
           85,
           86,
           95
          ],
          [
           85,
           86,
           87,
           96
          ],
          [
           90,
           91,
           98,
           125
          ],
          [
           88,
           89,
           100,
           119
          ],
          [
           80,
           87,
           105
          ],
          [
           79,
           80,
           91,
           109
          ],
          [
           81,
           82,
           93,
           115,
           190
          ],
          [
           80,
           91,
           109
          ],
          [
           75,
           77,
           112,
           139
          ],
          [
           75,
           76,
           77,
           112,
           139,
           176
          ],
          [
           76,
           77,
           78,
           108,
           188
          ],
          [
           77,
           78,
           108
          ],
          [
           76,
           77,
           119,
           176,
           192
          ],
          [
           76,
           77,
           137,
           172
          ],
          [
           76,
           77,
           137,
           172
          ],
          [
           79,
           81,
           93
          ],
          [
           80,
           82
          ],
          [
           80,
           82
          ],
          [
           76,
           78,
           112,
           192
          ],
          [
           78,
           79,
           80,
           113,
           184
          ],
          [
           79,
           80,
           81,
           114,
           187
          ],
          [
           78,
           79,
           80,
           109,
           137,
           150,
           181
          ],
          [
           77,
           79,
           108,
           182
          ],
          [
           79,
           110,
           183
          ],
          [
           75,
           91,
           106,
           178
          ],
          [
           99,
           184
          ],
          [
           77,
           88,
           178,
           182
          ],
          [
           86,
           88,
           141
          ],
          [
           80,
           139
          ],
          [
           76,
           78
          ],
          [
           82,
           84
          ],
          [
           176,
           401
          ],
          [
           71,
           73,
           94
          ],
          [
           76,
           77
          ],
          [
           75,
           76
          ],
          [
           76,
           77
          ],
          [
           76
          ],
          [
           81,
           82
          ],
          [
           85
          ],
          [
           50,
           68
          ],
          [
           75,
           76,
           146
          ],
          [
           173,
           401
          ],
          [
           76,
           176
          ],
          [
           75,
           76
          ],
          [],
          [],
          [],
          [
           76,
           83,
           125
          ],
          [
           126
          ],
          [
           65
          ],
          [
           76,
           588
          ],
          [
           77,
           154
          ],
          [
           67
          ],
          [],
          [
           67,
           68
          ],
          [
           68
          ],
          [
           50
          ],
          [
           50,
           136
          ],
          []
         ],
         "xaxis": "x",
         "yaxis": "y"
        }
       ],
       "layout": {
        "barmode": "relative",
        "legend": {
         "tracegroupgap": 0
        },
        "margin": {
         "t": 60
        },
        "template": {
         "data": {
          "bar": [
           {
            "error_x": {
             "color": "#2a3f5f"
            },
            "error_y": {
             "color": "#2a3f5f"
            },
            "marker": {
             "line": {
              "color": "#E5ECF6",
              "width": 0.5
             }
            },
            "type": "bar"
           }
          ],
          "barpolar": [
           {
            "marker": {
             "line": {
              "color": "#E5ECF6",
              "width": 0.5
             }
            },
            "type": "barpolar"
           }
          ],
          "carpet": [
           {
            "aaxis": {
             "endlinecolor": "#2a3f5f",
             "gridcolor": "white",
             "linecolor": "white",
             "minorgridcolor": "white",
             "startlinecolor": "#2a3f5f"
            },
            "baxis": {
             "endlinecolor": "#2a3f5f",
             "gridcolor": "white",
             "linecolor": "white",
             "minorgridcolor": "white",
             "startlinecolor": "#2a3f5f"
            },
            "type": "carpet"
           }
          ],
          "choropleth": [
           {
            "colorbar": {
             "outlinewidth": 0,
             "ticks": ""
            },
            "type": "choropleth"
           }
          ],
          "contour": [
           {
            "colorbar": {
             "outlinewidth": 0,
             "ticks": ""
            },
            "colorscale": [
             [
              0,
              "#0d0887"
             ],
             [
              0.1111111111111111,
              "#46039f"
             ],
             [
              0.2222222222222222,
              "#7201a8"
             ],
             [
              0.3333333333333333,
              "#9c179e"
             ],
             [
              0.4444444444444444,
              "#bd3786"
             ],
             [
              0.5555555555555556,
              "#d8576b"
             ],
             [
              0.6666666666666666,
              "#ed7953"
             ],
             [
              0.7777777777777778,
              "#fb9f3a"
             ],
             [
              0.8888888888888888,
              "#fdca26"
             ],
             [
              1,
              "#f0f921"
             ]
            ],
            "type": "contour"
           }
          ],
          "contourcarpet": [
           {
            "colorbar": {
             "outlinewidth": 0,
             "ticks": ""
            },
            "type": "contourcarpet"
           }
          ],
          "heatmap": [
           {
            "colorbar": {
             "outlinewidth": 0,
             "ticks": ""
            },
            "colorscale": [
             [
              0,
              "#0d0887"
             ],
             [
              0.1111111111111111,
              "#46039f"
             ],
             [
              0.2222222222222222,
              "#7201a8"
             ],
             [
              0.3333333333333333,
              "#9c179e"
             ],
             [
              0.4444444444444444,
              "#bd3786"
             ],
             [
              0.5555555555555556,
              "#d8576b"
             ],
             [
              0.6666666666666666,
              "#ed7953"
             ],
             [
              0.7777777777777778,
              "#fb9f3a"
             ],
             [
              0.8888888888888888,
              "#fdca26"
             ],
             [
              1,
              "#f0f921"
             ]
            ],
            "type": "heatmap"
           }
          ],
          "heatmapgl": [
           {
            "colorbar": {
             "outlinewidth": 0,
             "ticks": ""
            },
            "colorscale": [
             [
              0,
              "#0d0887"
             ],
             [
              0.1111111111111111,
              "#46039f"
             ],
             [
              0.2222222222222222,
              "#7201a8"
             ],
             [
              0.3333333333333333,
              "#9c179e"
             ],
             [
              0.4444444444444444,
              "#bd3786"
             ],
             [
              0.5555555555555556,
              "#d8576b"
             ],
             [
              0.6666666666666666,
              "#ed7953"
             ],
             [
              0.7777777777777778,
              "#fb9f3a"
             ],
             [
              0.8888888888888888,
              "#fdca26"
             ],
             [
              1,
              "#f0f921"
             ]
            ],
            "type": "heatmapgl"
           }
          ],
          "histogram": [
           {
            "marker": {
             "colorbar": {
              "outlinewidth": 0,
              "ticks": ""
             }
            },
            "type": "histogram"
           }
          ],
          "histogram2d": [
           {
            "colorbar": {
             "outlinewidth": 0,
             "ticks": ""
            },
            "colorscale": [
             [
              0,
              "#0d0887"
             ],
             [
              0.1111111111111111,
              "#46039f"
             ],
             [
              0.2222222222222222,
              "#7201a8"
             ],
             [
              0.3333333333333333,
              "#9c179e"
             ],
             [
              0.4444444444444444,
              "#bd3786"
             ],
             [
              0.5555555555555556,
              "#d8576b"
             ],
             [
              0.6666666666666666,
              "#ed7953"
             ],
             [
              0.7777777777777778,
              "#fb9f3a"
             ],
             [
              0.8888888888888888,
              "#fdca26"
             ],
             [
              1,
              "#f0f921"
             ]
            ],
            "type": "histogram2d"
           }
          ],
          "histogram2dcontour": [
           {
            "colorbar": {
             "outlinewidth": 0,
             "ticks": ""
            },
            "colorscale": [
             [
              0,
              "#0d0887"
             ],
             [
              0.1111111111111111,
              "#46039f"
             ],
             [
              0.2222222222222222,
              "#7201a8"
             ],
             [
              0.3333333333333333,
              "#9c179e"
             ],
             [
              0.4444444444444444,
              "#bd3786"
             ],
             [
              0.5555555555555556,
              "#d8576b"
             ],
             [
              0.6666666666666666,
              "#ed7953"
             ],
             [
              0.7777777777777778,
              "#fb9f3a"
             ],
             [
              0.8888888888888888,
              "#fdca26"
             ],
             [
              1,
              "#f0f921"
             ]
            ],
            "type": "histogram2dcontour"
           }
          ],
          "mesh3d": [
           {
            "colorbar": {
             "outlinewidth": 0,
             "ticks": ""
            },
            "type": "mesh3d"
           }
          ],
          "parcoords": [
           {
            "line": {
             "colorbar": {
              "outlinewidth": 0,
              "ticks": ""
             }
            },
            "type": "parcoords"
           }
          ],
          "pie": [
           {
            "automargin": true,
            "type": "pie"
           }
          ],
          "scatter": [
           {
            "marker": {
             "colorbar": {
              "outlinewidth": 0,
              "ticks": ""
             }
            },
            "type": "scatter"
           }
          ],
          "scatter3d": [
           {
            "line": {
             "colorbar": {
              "outlinewidth": 0,
              "ticks": ""
             }
            },
            "marker": {
             "colorbar": {
              "outlinewidth": 0,
              "ticks": ""
             }
            },
            "type": "scatter3d"
           }
          ],
          "scattercarpet": [
           {
            "marker": {
             "colorbar": {
              "outlinewidth": 0,
              "ticks": ""
             }
            },
            "type": "scattercarpet"
           }
          ],
          "scattergeo": [
           {
            "marker": {
             "colorbar": {
              "outlinewidth": 0,
              "ticks": ""
             }
            },
            "type": "scattergeo"
           }
          ],
          "scattergl": [
           {
            "marker": {
             "colorbar": {
              "outlinewidth": 0,
              "ticks": ""
             }
            },
            "type": "scattergl"
           }
          ],
          "scattermapbox": [
           {
            "marker": {
             "colorbar": {
              "outlinewidth": 0,
              "ticks": ""
             }
            },
            "type": "scattermapbox"
           }
          ],
          "scatterpolar": [
           {
            "marker": {
             "colorbar": {
              "outlinewidth": 0,
              "ticks": ""
             }
            },
            "type": "scatterpolar"
           }
          ],
          "scatterpolargl": [
           {
            "marker": {
             "colorbar": {
              "outlinewidth": 0,
              "ticks": ""
             }
            },
            "type": "scatterpolargl"
           }
          ],
          "scatterternary": [
           {
            "marker": {
             "colorbar": {
              "outlinewidth": 0,
              "ticks": ""
             }
            },
            "type": "scatterternary"
           }
          ],
          "surface": [
           {
            "colorbar": {
             "outlinewidth": 0,
             "ticks": ""
            },
            "colorscale": [
             [
              0,
              "#0d0887"
             ],
             [
              0.1111111111111111,
              "#46039f"
             ],
             [
              0.2222222222222222,
              "#7201a8"
             ],
             [
              0.3333333333333333,
              "#9c179e"
             ],
             [
              0.4444444444444444,
              "#bd3786"
             ],
             [
              0.5555555555555556,
              "#d8576b"
             ],
             [
              0.6666666666666666,
              "#ed7953"
             ],
             [
              0.7777777777777778,
              "#fb9f3a"
             ],
             [
              0.8888888888888888,
              "#fdca26"
             ],
             [
              1,
              "#f0f921"
             ]
            ],
            "type": "surface"
           }
          ],
          "table": [
           {
            "cells": {
             "fill": {
              "color": "#EBF0F8"
             },
             "line": {
              "color": "white"
             }
            },
            "header": {
             "fill": {
              "color": "#C8D4E3"
             },
             "line": {
              "color": "white"
             }
            },
            "type": "table"
           }
          ]
         },
         "layout": {
          "annotationdefaults": {
           "arrowcolor": "#2a3f5f",
           "arrowhead": 0,
           "arrowwidth": 1
          },
          "autotypenumbers": "strict",
          "coloraxis": {
           "colorbar": {
            "outlinewidth": 0,
            "ticks": ""
           }
          },
          "colorscale": {
           "diverging": [
            [
             0,
             "#8e0152"
            ],
            [
             0.1,
             "#c51b7d"
            ],
            [
             0.2,
             "#de77ae"
            ],
            [
             0.3,
             "#f1b6da"
            ],
            [
             0.4,
             "#fde0ef"
            ],
            [
             0.5,
             "#f7f7f7"
            ],
            [
             0.6,
             "#e6f5d0"
            ],
            [
             0.7,
             "#b8e186"
            ],
            [
             0.8,
             "#7fbc41"
            ],
            [
             0.9,
             "#4d9221"
            ],
            [
             1,
             "#276419"
            ]
           ],
           "sequential": [
            [
             0,
             "#0d0887"
            ],
            [
             0.1111111111111111,
             "#46039f"
            ],
            [
             0.2222222222222222,
             "#7201a8"
            ],
            [
             0.3333333333333333,
             "#9c179e"
            ],
            [
             0.4444444444444444,
             "#bd3786"
            ],
            [
             0.5555555555555556,
             "#d8576b"
            ],
            [
             0.6666666666666666,
             "#ed7953"
            ],
            [
             0.7777777777777778,
             "#fb9f3a"
            ],
            [
             0.8888888888888888,
             "#fdca26"
            ],
            [
             1,
             "#f0f921"
            ]
           ],
           "sequentialminus": [
            [
             0,
             "#0d0887"
            ],
            [
             0.1111111111111111,
             "#46039f"
            ],
            [
             0.2222222222222222,
             "#7201a8"
            ],
            [
             0.3333333333333333,
             "#9c179e"
            ],
            [
             0.4444444444444444,
             "#bd3786"
            ],
            [
             0.5555555555555556,
             "#d8576b"
            ],
            [
             0.6666666666666666,
             "#ed7953"
            ],
            [
             0.7777777777777778,
             "#fb9f3a"
            ],
            [
             0.8888888888888888,
             "#fdca26"
            ],
            [
             1,
             "#f0f921"
            ]
           ]
          },
          "colorway": [
           "#636efa",
           "#EF553B",
           "#00cc96",
           "#ab63fa",
           "#FFA15A",
           "#19d3f3",
           "#FF6692",
           "#B6E880",
           "#FF97FF",
           "#FECB52"
          ],
          "font": {
           "color": "#2a3f5f"
          },
          "geo": {
           "bgcolor": "white",
           "lakecolor": "white",
           "landcolor": "#E5ECF6",
           "showlakes": true,
           "showland": true,
           "subunitcolor": "white"
          },
          "hoverlabel": {
           "align": "left"
          },
          "hovermode": "closest",
          "mapbox": {
           "style": "light"
          },
          "paper_bgcolor": "white",
          "plot_bgcolor": "#E5ECF6",
          "polar": {
           "angularaxis": {
            "gridcolor": "white",
            "linecolor": "white",
            "ticks": ""
           },
           "bgcolor": "#E5ECF6",
           "radialaxis": {
            "gridcolor": "white",
            "linecolor": "white",
            "ticks": ""
           }
          },
          "scene": {
           "xaxis": {
            "backgroundcolor": "#E5ECF6",
            "gridcolor": "white",
            "gridwidth": 2,
            "linecolor": "white",
            "showbackground": true,
            "ticks": "",
            "zerolinecolor": "white"
           },
           "yaxis": {
            "backgroundcolor": "#E5ECF6",
            "gridcolor": "white",
            "gridwidth": 2,
            "linecolor": "white",
            "showbackground": true,
            "ticks": "",
            "zerolinecolor": "white"
           },
           "zaxis": {
            "backgroundcolor": "#E5ECF6",
            "gridcolor": "white",
            "gridwidth": 2,
            "linecolor": "white",
            "showbackground": true,
            "ticks": "",
            "zerolinecolor": "white"
           }
          },
          "shapedefaults": {
           "line": {
            "color": "#2a3f5f"
           }
          },
          "ternary": {
           "aaxis": {
            "gridcolor": "white",
            "linecolor": "white",
            "ticks": ""
           },
           "baxis": {
            "gridcolor": "white",
            "linecolor": "white",
            "ticks": ""
           },
           "bgcolor": "#E5ECF6",
           "caxis": {
            "gridcolor": "white",
            "linecolor": "white",
            "ticks": ""
           }
          },
          "title": {
           "x": 0.05
          },
          "xaxis": {
           "automargin": true,
           "gridcolor": "white",
           "linecolor": "white",
           "ticks": "",
           "title": {
            "standoff": 15
           },
           "zerolinecolor": "white",
           "zerolinewidth": 2
          },
          "yaxis": {
           "automargin": true,
           "gridcolor": "white",
           "linecolor": "white",
           "ticks": "",
           "title": {
            "standoff": 15
           },
           "zerolinecolor": "white",
           "zerolinewidth": 2
          }
         }
        },
        "xaxis": {
         "anchor": "y",
         "domain": [
          0,
          1
         ],
         "title": {
          "text": "positive_sites_list"
         }
        },
        "yaxis": {
         "anchor": "x",
         "domain": [
          0,
          1
         ],
         "title": {
          "text": "count"
         }
        }
       }
      },
      "text/html": [
       "<div>                            <div id=\"d4015e30-e3c0-4351-affb-040c12c2ffb0\" class=\"plotly-graph-div\" style=\"height:525px; width:100%;\"></div>            <script type=\"text/javascript\">                require([\"plotly\"], function(Plotly) {                    window.PLOTLYENV=window.PLOTLYENV || {};                                    if (document.getElementById(\"d4015e30-e3c0-4351-affb-040c12c2ffb0\")) {                    Plotly.newPlot(                        \"d4015e30-e3c0-4351-affb-040c12c2ffb0\",                        [{\"alignmentgroup\": \"True\", \"bingroup\": \"x\", \"hovertemplate\": \"positive_sites_list=%{x}<br>count=%{y}<extra></extra>\", \"legendgroup\": \"\", \"marker\": {\"color\": \"#636efa\"}, \"name\": \"\", \"offsetgroup\": \"\", \"orientation\": \"v\", \"showlegend\": false, \"type\": \"histogram\", \"x\": [[66, 126], [62, 72, 223, 241], [66, 126], [107, 206, 224], [88], [88], [88], [86, 95, 206], [86, 95, 206], [86, 95, 206], [86, 95, 206], [86, 95, 206], [86, 95, 206], [86, 95, 206], [86, 95, 206], [86, 95, 206], [86, 95, 206], [86, 95, 206], [86, 95, 206], [86, 95, 206], [86, 95, 206], [87, 96, 207], [90, 201], [90, 201], [90, 201], [91], [91], [91], [91], [91, 192], [91, 192], [90], [90], [90], [90], [90], [84, 86], [91], [91], [91], [95, 97], [89, 95], [95, 97], [95, 97], [95, 97, 199], [88, 90], [88, 90, 123], [101, 103, 132], [101, 103, 132], [101, 103, 132], [101, 103, 132], [96], [96], [96], [96], [96], [96, 131, 207], [96, 131, 207], [96, 131, 208], [96, 128, 205], [94, 96, 122], [94, 96, 122], [96, 102, 107, 125, 158], [89, 104], [94, 124], [95, 96, 107, 124, 155], [101, 108, 199], [101, 108, 199], [101, 108, 199], [99, 124], [98, 105], [98, 105], [99, 106], [86, 87, 88, 95, 114], [84, 85, 86, 187], [84, 85, 86, 187], [84, 86], [84, 86], [85, 87], [85, 87, 121], [89], [86, 97], [88, 95], [84, 85, 86, 95], [85, 86, 87, 96], [90, 91, 98, 125], [88, 89, 100, 119], [80, 87, 105], [79, 80, 91, 109], [81, 82, 93, 115, 190], [80, 91, 109], [75, 77, 112, 139], [75, 76, 77, 112, 139, 176], [76, 77, 78, 108, 188], [77, 78, 108], [76, 77, 119, 176, 192], [76, 77, 137, 172], [76, 77, 137, 172], [79, 81, 93], [80, 82], [80, 82], [76, 78, 112, 192], [78, 79, 80, 113, 184], [79, 80, 81, 114, 187], [78, 79, 80, 109, 137, 150, 181], [77, 79, 108, 182], [79, 110, 183], [75, 91, 106, 178], [99, 184], [77, 88, 178, 182], [86, 88, 141], [80, 139], [76, 78], [82, 84], [176, 401], [71, 73, 94], [76, 77], [75, 76], [76, 77], [76], [81, 82], [85], [50, 68], [75, 76, 146], [173, 401], [76, 176], [75, 76], [], [], [], [76, 83, 125], [126], [65], [76, 588], [77, 154], [67], [], [67, 68], [68], [50], [50, 136], []], \"xaxis\": \"x\", \"yaxis\": \"y\"}],                        {\"barmode\": \"relative\", \"legend\": {\"tracegroupgap\": 0}, \"margin\": {\"t\": 60}, \"template\": {\"data\": {\"bar\": [{\"error_x\": {\"color\": \"#2a3f5f\"}, \"error_y\": {\"color\": \"#2a3f5f\"}, \"marker\": {\"line\": {\"color\": \"#E5ECF6\", \"width\": 0.5}}, \"type\": \"bar\"}], \"barpolar\": [{\"marker\": {\"line\": {\"color\": \"#E5ECF6\", \"width\": 0.5}}, \"type\": \"barpolar\"}], \"carpet\": [{\"aaxis\": {\"endlinecolor\": \"#2a3f5f\", \"gridcolor\": \"white\", \"linecolor\": \"white\", \"minorgridcolor\": \"white\", \"startlinecolor\": \"#2a3f5f\"}, \"baxis\": {\"endlinecolor\": \"#2a3f5f\", \"gridcolor\": \"white\", \"linecolor\": \"white\", \"minorgridcolor\": \"white\", \"startlinecolor\": \"#2a3f5f\"}, \"type\": \"carpet\"}], \"choropleth\": [{\"colorbar\": {\"outlinewidth\": 0, \"ticks\": \"\"}, \"type\": \"choropleth\"}], \"contour\": [{\"colorbar\": {\"outlinewidth\": 0, \"ticks\": \"\"}, \"colorscale\": [[0.0, \"#0d0887\"], [0.1111111111111111, \"#46039f\"], [0.2222222222222222, \"#7201a8\"], [0.3333333333333333, \"#9c179e\"], [0.4444444444444444, \"#bd3786\"], [0.5555555555555556, \"#d8576b\"], [0.6666666666666666, \"#ed7953\"], [0.7777777777777778, \"#fb9f3a\"], [0.8888888888888888, \"#fdca26\"], [1.0, \"#f0f921\"]], \"type\": \"contour\"}], \"contourcarpet\": [{\"colorbar\": {\"outlinewidth\": 0, \"ticks\": \"\"}, \"type\": \"contourcarpet\"}], \"heatmap\": [{\"colorbar\": {\"outlinewidth\": 0, \"ticks\": \"\"}, \"colorscale\": [[0.0, \"#0d0887\"], [0.1111111111111111, \"#46039f\"], [0.2222222222222222, \"#7201a8\"], [0.3333333333333333, \"#9c179e\"], [0.4444444444444444, \"#bd3786\"], [0.5555555555555556, \"#d8576b\"], [0.6666666666666666, \"#ed7953\"], [0.7777777777777778, \"#fb9f3a\"], [0.8888888888888888, \"#fdca26\"], [1.0, \"#f0f921\"]], \"type\": \"heatmap\"}], \"heatmapgl\": [{\"colorbar\": {\"outlinewidth\": 0, \"ticks\": \"\"}, \"colorscale\": [[0.0, \"#0d0887\"], [0.1111111111111111, \"#46039f\"], [0.2222222222222222, \"#7201a8\"], [0.3333333333333333, \"#9c179e\"], [0.4444444444444444, \"#bd3786\"], [0.5555555555555556, \"#d8576b\"], [0.6666666666666666, \"#ed7953\"], [0.7777777777777778, \"#fb9f3a\"], [0.8888888888888888, \"#fdca26\"], [1.0, \"#f0f921\"]], \"type\": \"heatmapgl\"}], \"histogram\": [{\"marker\": {\"colorbar\": {\"outlinewidth\": 0, \"ticks\": \"\"}}, \"type\": \"histogram\"}], \"histogram2d\": [{\"colorbar\": {\"outlinewidth\": 0, \"ticks\": \"\"}, \"colorscale\": [[0.0, \"#0d0887\"], [0.1111111111111111, \"#46039f\"], [0.2222222222222222, \"#7201a8\"], [0.3333333333333333, \"#9c179e\"], [0.4444444444444444, \"#bd3786\"], [0.5555555555555556, \"#d8576b\"], [0.6666666666666666, \"#ed7953\"], [0.7777777777777778, \"#fb9f3a\"], [0.8888888888888888, \"#fdca26\"], [1.0, \"#f0f921\"]], \"type\": \"histogram2d\"}], \"histogram2dcontour\": [{\"colorbar\": {\"outlinewidth\": 0, \"ticks\": \"\"}, \"colorscale\": [[0.0, \"#0d0887\"], [0.1111111111111111, \"#46039f\"], [0.2222222222222222, \"#7201a8\"], [0.3333333333333333, \"#9c179e\"], [0.4444444444444444, \"#bd3786\"], [0.5555555555555556, \"#d8576b\"], [0.6666666666666666, \"#ed7953\"], [0.7777777777777778, \"#fb9f3a\"], [0.8888888888888888, \"#fdca26\"], [1.0, \"#f0f921\"]], \"type\": \"histogram2dcontour\"}], \"mesh3d\": [{\"colorbar\": {\"outlinewidth\": 0, \"ticks\": \"\"}, \"type\": \"mesh3d\"}], \"parcoords\": [{\"line\": {\"colorbar\": {\"outlinewidth\": 0, \"ticks\": \"\"}}, \"type\": \"parcoords\"}], \"pie\": [{\"automargin\": true, \"type\": \"pie\"}], \"scatter\": [{\"marker\": {\"colorbar\": {\"outlinewidth\": 0, \"ticks\": \"\"}}, \"type\": \"scatter\"}], \"scatter3d\": [{\"line\": {\"colorbar\": {\"outlinewidth\": 0, \"ticks\": \"\"}}, \"marker\": {\"colorbar\": {\"outlinewidth\": 0, \"ticks\": \"\"}}, \"type\": \"scatter3d\"}], \"scattercarpet\": [{\"marker\": {\"colorbar\": {\"outlinewidth\": 0, \"ticks\": \"\"}}, \"type\": \"scattercarpet\"}], \"scattergeo\": [{\"marker\": {\"colorbar\": {\"outlinewidth\": 0, \"ticks\": \"\"}}, \"type\": \"scattergeo\"}], \"scattergl\": [{\"marker\": {\"colorbar\": {\"outlinewidth\": 0, \"ticks\": \"\"}}, \"type\": \"scattergl\"}], \"scattermapbox\": [{\"marker\": {\"colorbar\": {\"outlinewidth\": 0, \"ticks\": \"\"}}, \"type\": \"scattermapbox\"}], \"scatterpolar\": [{\"marker\": {\"colorbar\": {\"outlinewidth\": 0, \"ticks\": \"\"}}, \"type\": \"scatterpolar\"}], \"scatterpolargl\": [{\"marker\": {\"colorbar\": {\"outlinewidth\": 0, \"ticks\": \"\"}}, \"type\": \"scatterpolargl\"}], \"scatterternary\": [{\"marker\": {\"colorbar\": {\"outlinewidth\": 0, \"ticks\": \"\"}}, \"type\": \"scatterternary\"}], \"surface\": [{\"colorbar\": {\"outlinewidth\": 0, \"ticks\": \"\"}, \"colorscale\": [[0.0, \"#0d0887\"], [0.1111111111111111, \"#46039f\"], [0.2222222222222222, \"#7201a8\"], [0.3333333333333333, \"#9c179e\"], [0.4444444444444444, \"#bd3786\"], [0.5555555555555556, \"#d8576b\"], [0.6666666666666666, \"#ed7953\"], [0.7777777777777778, \"#fb9f3a\"], [0.8888888888888888, \"#fdca26\"], [1.0, \"#f0f921\"]], \"type\": \"surface\"}], \"table\": [{\"cells\": {\"fill\": {\"color\": \"#EBF0F8\"}, \"line\": {\"color\": \"white\"}}, \"header\": {\"fill\": {\"color\": \"#C8D4E3\"}, \"line\": {\"color\": \"white\"}}, \"type\": \"table\"}]}, \"layout\": {\"annotationdefaults\": {\"arrowcolor\": \"#2a3f5f\", \"arrowhead\": 0, \"arrowwidth\": 1}, \"autotypenumbers\": \"strict\", \"coloraxis\": {\"colorbar\": {\"outlinewidth\": 0, \"ticks\": \"\"}}, \"colorscale\": {\"diverging\": [[0, \"#8e0152\"], [0.1, \"#c51b7d\"], [0.2, \"#de77ae\"], [0.3, \"#f1b6da\"], [0.4, \"#fde0ef\"], [0.5, \"#f7f7f7\"], [0.6, \"#e6f5d0\"], [0.7, \"#b8e186\"], [0.8, \"#7fbc41\"], [0.9, \"#4d9221\"], [1, \"#276419\"]], \"sequential\": [[0.0, \"#0d0887\"], [0.1111111111111111, \"#46039f\"], [0.2222222222222222, \"#7201a8\"], [0.3333333333333333, \"#9c179e\"], [0.4444444444444444, \"#bd3786\"], [0.5555555555555556, \"#d8576b\"], [0.6666666666666666, \"#ed7953\"], [0.7777777777777778, \"#fb9f3a\"], [0.8888888888888888, \"#fdca26\"], [1.0, \"#f0f921\"]], \"sequentialminus\": [[0.0, \"#0d0887\"], [0.1111111111111111, \"#46039f\"], [0.2222222222222222, \"#7201a8\"], [0.3333333333333333, \"#9c179e\"], [0.4444444444444444, \"#bd3786\"], [0.5555555555555556, \"#d8576b\"], [0.6666666666666666, \"#ed7953\"], [0.7777777777777778, \"#fb9f3a\"], [0.8888888888888888, \"#fdca26\"], [1.0, \"#f0f921\"]]}, \"colorway\": [\"#636efa\", \"#EF553B\", \"#00cc96\", \"#ab63fa\", \"#FFA15A\", \"#19d3f3\", \"#FF6692\", \"#B6E880\", \"#FF97FF\", \"#FECB52\"], \"font\": {\"color\": \"#2a3f5f\"}, \"geo\": {\"bgcolor\": \"white\", \"lakecolor\": \"white\", \"landcolor\": \"#E5ECF6\", \"showlakes\": true, \"showland\": true, \"subunitcolor\": \"white\"}, \"hoverlabel\": {\"align\": \"left\"}, \"hovermode\": \"closest\", \"mapbox\": {\"style\": \"light\"}, \"paper_bgcolor\": \"white\", \"plot_bgcolor\": \"#E5ECF6\", \"polar\": {\"angularaxis\": {\"gridcolor\": \"white\", \"linecolor\": \"white\", \"ticks\": \"\"}, \"bgcolor\": \"#E5ECF6\", \"radialaxis\": {\"gridcolor\": \"white\", \"linecolor\": \"white\", \"ticks\": \"\"}}, \"scene\": {\"xaxis\": {\"backgroundcolor\": \"#E5ECF6\", \"gridcolor\": \"white\", \"gridwidth\": 2, \"linecolor\": \"white\", \"showbackground\": true, \"ticks\": \"\", \"zerolinecolor\": \"white\"}, \"yaxis\": {\"backgroundcolor\": \"#E5ECF6\", \"gridcolor\": \"white\", \"gridwidth\": 2, \"linecolor\": \"white\", \"showbackground\": true, \"ticks\": \"\", \"zerolinecolor\": \"white\"}, \"zaxis\": {\"backgroundcolor\": \"#E5ECF6\", \"gridcolor\": \"white\", \"gridwidth\": 2, \"linecolor\": \"white\", \"showbackground\": true, \"ticks\": \"\", \"zerolinecolor\": \"white\"}}, \"shapedefaults\": {\"line\": {\"color\": \"#2a3f5f\"}}, \"ternary\": {\"aaxis\": {\"gridcolor\": \"white\", \"linecolor\": \"white\", \"ticks\": \"\"}, \"baxis\": {\"gridcolor\": \"white\", \"linecolor\": \"white\", \"ticks\": \"\"}, \"bgcolor\": \"#E5ECF6\", \"caxis\": {\"gridcolor\": \"white\", \"linecolor\": \"white\", \"ticks\": \"\"}}, \"title\": {\"x\": 0.05}, \"xaxis\": {\"automargin\": true, \"gridcolor\": \"white\", \"linecolor\": \"white\", \"ticks\": \"\", \"title\": {\"standoff\": 15}, \"zerolinecolor\": \"white\", \"zerolinewidth\": 2}, \"yaxis\": {\"automargin\": true, \"gridcolor\": \"white\", \"linecolor\": \"white\", \"ticks\": \"\", \"title\": {\"standoff\": 15}, \"zerolinecolor\": \"white\", \"zerolinewidth\": 2}}}, \"xaxis\": {\"anchor\": \"y\", \"domain\": [0.0, 1.0], \"title\": {\"text\": \"positive_sites_list\"}}, \"yaxis\": {\"anchor\": \"x\", \"domain\": [0.0, 1.0], \"title\": {\"text\": \"count\"}}},                        {\"responsive\": true}                    ).then(function(){\n",
       "                            \n",
       "var gd = document.getElementById('d4015e30-e3c0-4351-affb-040c12c2ffb0');\n",
       "var x = new MutationObserver(function (mutations, observer) {{\n",
       "        var display = window.getComputedStyle(gd).display;\n",
       "        if (!display || display === 'none') {{\n",
       "            console.log([gd, 'removed!']);\n",
       "            Plotly.purge(gd);\n",
       "            observer.disconnect();\n",
       "        }}\n",
       "}});\n",
       "\n",
       "// Listen for the removal of the full notebook cells\n",
       "var notebookContainer = gd.closest('#notebook-container');\n",
       "if (notebookContainer) {{\n",
       "    x.observe(notebookContainer, {childList: true});\n",
       "}}\n",
       "\n",
       "// Listen for the clearing of the current output cell\n",
       "var outputEl = gd.closest('.output');\n",
       "if (outputEl) {{\n",
       "    x.observe(outputEl, {childList: true});\n",
       "}}\n",
       "\n",
       "                        })                };                });            </script>        </div>"
      ]
     },
     "metadata": {},
     "output_type": "display_data"
    }
   ],
   "source": [
    "import plotly.express as px\n",
    "fig = px.histogram(df, x=\"positive_sites_list\")\n",
    "fig.show()"
   ]
  },
  {
   "cell_type": "code",
   "execution_count": 23,
   "id": "sophisticated-chrome",
   "metadata": {},
   "outputs": [],
   "source": [
    "new_list = []\n",
    "for item in df[\"positive_sites_list\"]:\n",
    "    #print(item)\n",
    "    new_list.append(item)"
   ]
  },
  {
   "cell_type": "code",
   "execution_count": 27,
   "id": "abandoned-increase",
   "metadata": {},
   "outputs": [
    {
     "name": "stdout",
     "output_type": "stream",
     "text": [
      "[66, 126, 62, 72, 223, 241, 66, 126, 107, 206, 224, 88, 88, 88, 86, 95, 206, 86, 95, 206, 86, 95, 206, 86, 95, 206, 86, 95, 206, 86, 95, 206, 86, 95, 206, 86, 95, 206, 86, 95, 206, 86, 95, 206, 86, 95, 206, 86, 95, 206, 86, 95, 206, 86, 95, 206, 87, 96, 207, 90, 201, 90, 201, 90, 201, 91, 91, 91, 91, 91, 192, 91, 192, 90, 90, 90, 90, 90, 84, 86, 91, 91, 91, 95, 97, 89, 95, 95, 97, 95, 97, 95, 97, 199, 88, 90, 88, 90, 123, 101, 103, 132, 101, 103, 132, 101, 103, 132, 101, 103, 132, 96, 96, 96, 96, 96, 96, 131, 207, 96, 131, 207, 96, 131, 208, 96, 128, 205, 94, 96, 122, 94, 96, 122, 96, 102, 107, 125, 158, 89, 104, 94, 124, 95, 96, 107, 124, 155, 101, 108, 199, 101, 108, 199, 101, 108, 199, 99, 124, 98, 105, 98, 105, 99, 106, 86, 87, 88, 95, 114, 84, 85, 86, 187, 84, 85, 86, 187, 84, 86, 84, 86, 85, 87, 85, 87, 121, 89, 86, 97, 88, 95, 84, 85, 86, 95, 85, 86, 87, 96, 90, 91, 98, 125, 88, 89, 100, 119, 80, 87, 105, 79, 80, 91, 109, 81, 82, 93, 115, 190, 80, 91, 109, 75, 77, 112, 139, 75, 76, 77, 112, 139, 176, 76, 77, 78, 108, 188, 77, 78, 108, 76, 77, 119, 176, 192, 76, 77, 137, 172, 76, 77, 137, 172, 79, 81, 93, 80, 82, 80, 82, 76, 78, 112, 192, 78, 79, 80, 113, 184, 79, 80, 81, 114, 187, 78, 79, 80, 109, 137, 150, 181, 77, 79, 108, 182, 79, 110, 183, 75, 91, 106, 178, 99, 184, 77, 88, 178, 182, 86, 88, 141, 80, 139, 76, 78, 82, 84, 176, 401, 71, 73, 94, 76, 77, 75, 76, 76, 77, 76, 81, 82, 85, 50, 68, 75, 76, 146, 173, 401, 76, 176, 75, 76, 76, 83, 125, 126, 65, 76, 588, 77, 154, 67, 67, 68, 68, 50, 50, 136]\n"
     ]
    }
   ],
   "source": [
    "import itertools\n",
    "#a = [['a','b'], ['c']]\n",
    "print(list(itertools.chain.from_iterable(new_list)))\n",
    "x=list(itertools.chain.from_iterable(new_list))"
   ]
  },
  {
   "cell_type": "code",
   "execution_count": 30,
   "id": "substantial-exclusion",
   "metadata": {},
   "outputs": [
    {
     "ename": "ValueError",
     "evalue": "Invalid property specified for object of type plotly.graph_objs.Histogram: 'bins'\n\nDid you mean \"xbins\"?\n\n    Valid properties:\n        alignmentgroup\n            Set several traces linked to the same position axis or\n            matching axes to the same alignmentgroup. This controls\n            whether bars compute their positional range dependently\n            or independently.\n        autobinx\n            Obsolete: since v1.42 each bin attribute is auto-\n            determined separately and `autobinx` is not needed.\n            However, we accept `autobinx: true` or `false` and will\n            update `xbins` accordingly before deleting `autobinx`\n            from the trace.\n        autobiny\n            Obsolete: since v1.42 each bin attribute is auto-\n            determined separately and `autobiny` is not needed.\n            However, we accept `autobiny: true` or `false` and will\n            update `ybins` accordingly before deleting `autobiny`\n            from the trace.\n        bingroup\n            Set a group of histogram traces which will have\n            compatible bin settings. Note that traces on the same\n            subplot and with the same \"orientation\" under `barmode`\n            \"stack\", \"relative\" and \"group\" are forced into the\n            same bingroup, Using `bingroup`, traces under `barmode`\n            \"overlay\" and on different axes (of the same axis type)\n            can have compatible bin settings. Note that histogram\n            and histogram2d* trace can share the same `bingroup`\n        cumulative\n            :class:`plotly.graph_objects.histogram.Cumulative`\n            instance or dict with compatible properties\n        customdata\n            Assigns extra data each datum. This may be useful when\n            listening to hover, click and selection events. Note\n            that, \"scatter\" traces also appends customdata items in\n            the markers DOM elements\n        customdatasrc\n            Sets the source reference on Chart Studio Cloud for\n            customdata .\n        error_x\n            :class:`plotly.graph_objects.histogram.ErrorX` instance\n            or dict with compatible properties\n        error_y\n            :class:`plotly.graph_objects.histogram.ErrorY` instance\n            or dict with compatible properties\n        histfunc\n            Specifies the binning function used for this histogram\n            trace. If \"count\", the histogram values are computed by\n            counting the number of values lying inside each bin. If\n            \"sum\", \"avg\", \"min\", \"max\", the histogram values are\n            computed using the sum, the average, the minimum or the\n            maximum of the values lying inside each bin\n            respectively.\n        histnorm\n            Specifies the type of normalization used for this\n            histogram trace. If \"\", the span of each bar\n            corresponds to the number of occurrences (i.e. the\n            number of data points lying inside the bins). If\n            \"percent\" / \"probability\", the span of each bar\n            corresponds to the percentage / fraction of occurrences\n            with respect to the total number of sample points\n            (here, the sum of all bin HEIGHTS equals 100% / 1). If\n            \"density\", the span of each bar corresponds to the\n            number of occurrences in a bin divided by the size of\n            the bin interval (here, the sum of all bin AREAS equals\n            the total number of sample points). If *probability\n            density*, the area of each bar corresponds to the\n            probability that an event will fall into the\n            corresponding bin (here, the sum of all bin AREAS\n            equals 1).\n        hoverinfo\n            Determines which trace information appear on hover. If\n            `none` or `skip` are set, no information is displayed\n            upon hovering. But, if `none` is set, click and hover\n            events are still fired.\n        hoverinfosrc\n            Sets the source reference on Chart Studio Cloud for\n            hoverinfo .\n        hoverlabel\n            :class:`plotly.graph_objects.histogram.Hoverlabel`\n            instance or dict with compatible properties\n        hovertemplate\n            Template string used for rendering the information that\n            appear on hover box. Note that this will override\n            `hoverinfo`. Variables are inserted using %{variable},\n            for example \"y: %{y}\". Numbers are formatted using\n            d3-format's syntax %{variable:d3-format}, for example\n            \"Price: %{y:$.2f}\". https://github.com/d3/d3-3.x-api-\n            reference/blob/master/Formatting.md#d3_format for\n            details on the formatting syntax. Dates are formatted\n            using d3-time-format's syntax %{variable|d3-time-\n            format}, for example \"Day: %{2019-01-01|%A}\".\n            https://github.com/d3/d3-time-format#locale_format for\n            details on the date formatting syntax. The variables\n            available in `hovertemplate` are the ones emitted as\n            event data described at this link\n            https://plotly.com/javascript/plotlyjs-events/#event-\n            data. Additionally, every attributes that can be\n            specified per-point (the ones that are `arrayOk: true`)\n            are available. variable `binNumber` Anything contained\n            in tag `<extra>` is displayed in the secondary box, for\n            example \"<extra>{fullData.name}</extra>\". To hide the\n            secondary box completely, use an empty tag\n            `<extra></extra>`.\n        hovertemplatesrc\n            Sets the source reference on Chart Studio Cloud for\n            hovertemplate .\n        hovertext\n            Same as `text`.\n        hovertextsrc\n            Sets the source reference on Chart Studio Cloud for\n            hovertext .\n        ids\n            Assigns id labels to each datum. These ids for object\n            constancy of data points during animation. Should be an\n            array of strings, not numbers or any other type.\n        idssrc\n            Sets the source reference on Chart Studio Cloud for\n            ids .\n        legendgroup\n            Sets the legend group for this trace. Traces part of\n            the same legend group hide/show at the same time when\n            toggling legend items.\n        marker\n            :class:`plotly.graph_objects.histogram.Marker` instance\n            or dict with compatible properties\n        meta\n            Assigns extra meta information associated with this\n            trace that can be used in various text attributes.\n            Attributes such as trace `name`, graph, axis and\n            colorbar `title.text`, annotation `text`\n            `rangeselector`, `updatemenues` and `sliders` `label`\n            text all support `meta`. To access the trace `meta`\n            values in an attribute in the same trace, simply use\n            `%{meta[i]}` where `i` is the index or key of the\n            `meta` item in question. To access trace `meta` in\n            layout attributes, use `%{data[n[.meta[i]}` where `i`\n            is the index or key of the `meta` and `n` is the trace\n            index.\n        metasrc\n            Sets the source reference on Chart Studio Cloud for\n            meta .\n        name\n            Sets the trace name. The trace name appear as the\n            legend item and on hover.\n        nbinsx\n            Specifies the maximum number of desired bins. This\n            value will be used in an algorithm that will decide the\n            optimal bin size such that the histogram best\n            visualizes the distribution of the data. Ignored if\n            `xbins.size` is provided.\n        nbinsy\n            Specifies the maximum number of desired bins. This\n            value will be used in an algorithm that will decide the\n            optimal bin size such that the histogram best\n            visualizes the distribution of the data. Ignored if\n            `ybins.size` is provided.\n        offsetgroup\n            Set several traces linked to the same position axis or\n            matching axes to the same offsetgroup where bars of the\n            same position coordinate will line up.\n        opacity\n            Sets the opacity of the trace.\n        orientation\n            Sets the orientation of the bars. With \"v\" (\"h\"), the\n            value of the each bar spans along the vertical\n            (horizontal).\n        selected\n            :class:`plotly.graph_objects.histogram.Selected`\n            instance or dict with compatible properties\n        selectedpoints\n            Array containing integer indices of selected points.\n            Has an effect only for traces that support selections.\n            Note that an empty array means an empty selection where\n            the `unselected` are turned on for all points, whereas,\n            any other non-array values means no selection all where\n            the `selected` and `unselected` styles have no effect.\n        showlegend\n            Determines whether or not an item corresponding to this\n            trace is shown in the legend.\n        stream\n            :class:`plotly.graph_objects.histogram.Stream` instance\n            or dict with compatible properties\n        text\n            Sets hover text elements associated with each bar. If a\n            single string, the same string appears over all bars.\n            If an array of string, the items are mapped in order to\n            the this trace's coordinates.\n        textsrc\n            Sets the source reference on Chart Studio Cloud for\n            text .\n        uid\n            Assign an id to this trace, Use this to provide object\n            constancy between traces during animations and\n            transitions.\n        uirevision\n            Controls persistence of some user-driven changes to the\n            trace: `constraintrange` in `parcoords` traces, as well\n            as some `editable: true` modifications such as `name`\n            and `colorbar.title`. Defaults to `layout.uirevision`.\n            Note that other user-driven trace attribute changes are\n            controlled by `layout` attributes: `trace.visible` is\n            controlled by `layout.legend.uirevision`,\n            `selectedpoints` is controlled by\n            `layout.selectionrevision`, and `colorbar.(x|y)`\n            (accessible with `config: {editable: true}`) is\n            controlled by `layout.editrevision`. Trace changes are\n            tracked by `uid`, which only falls back on trace index\n            if no `uid` is provided. So if your app can add/remove\n            traces before the end of the `data` array, such that\n            the same trace has a different index, you can still\n            preserve user-driven changes if you give each trace a\n            `uid` that stays with it as it moves.\n        unselected\n            :class:`plotly.graph_objects.histogram.Unselected`\n            instance or dict with compatible properties\n        visible\n            Determines whether or not this trace is visible. If\n            \"legendonly\", the trace is not drawn, but can appear as\n            a legend item (provided that the legend itself is\n            visible).\n        x\n            Sets the sample data to be binned on the x axis.\n        xaxis\n            Sets a reference between this trace's x coordinates and\n            a 2D cartesian x axis. If \"x\" (the default value), the\n            x coordinates refer to `layout.xaxis`. If \"x2\", the x\n            coordinates refer to `layout.xaxis2`, and so on.\n        xbins\n            :class:`plotly.graph_objects.histogram.XBins` instance\n            or dict with compatible properties\n        xcalendar\n            Sets the calendar system to use with `x` date data.\n        xsrc\n            Sets the source reference on Chart Studio Cloud for  x\n            .\n        y\n            Sets the sample data to be binned on the y axis.\n        yaxis\n            Sets a reference between this trace's y coordinates and\n            a 2D cartesian y axis. If \"y\" (the default value), the\n            y coordinates refer to `layout.yaxis`. If \"y2\", the y\n            coordinates refer to `layout.yaxis2`, and so on.\n        ybins\n            :class:`plotly.graph_objects.histogram.YBins` instance\n            or dict with compatible properties\n        ycalendar\n            Sets the calendar system to use with `y` date data.\n        ysrc\n            Sets the source reference on Chart Studio Cloud for  y\n            .\n        \nDid you mean \"xbins\"?\n\nBad property path:\nbins\n^^^^",
     "output_type": "error",
     "traceback": [
      "\u001b[0;31m---------------------------------------------------------------------------\u001b[0m",
      "\u001b[0;31mValueError\u001b[0m                                Traceback (most recent call last)",
      "\u001b[0;32m<ipython-input-30-4cc785c79dbd>\u001b[0m in \u001b[0;36m<module>\u001b[0;34m\u001b[0m\n\u001b[1;32m      6\u001b[0m \u001b[0;31m#x = np.random.randn(500)\u001b[0m\u001b[0;34m\u001b[0m\u001b[0;34m\u001b[0m\u001b[0;34m\u001b[0m\u001b[0m\n\u001b[1;32m      7\u001b[0m \u001b[0;34m\u001b[0m\u001b[0m\n\u001b[0;32m----> 8\u001b[0;31m \u001b[0mfig\u001b[0m \u001b[0;34m=\u001b[0m \u001b[0mgo\u001b[0m\u001b[0;34m.\u001b[0m\u001b[0mFigure\u001b[0m\u001b[0;34m(\u001b[0m\u001b[0mdata\u001b[0m\u001b[0;34m=\u001b[0m\u001b[0;34m[\u001b[0m\u001b[0mgo\u001b[0m\u001b[0;34m.\u001b[0m\u001b[0mHistogram\u001b[0m\u001b[0;34m(\u001b[0m\u001b[0mx\u001b[0m\u001b[0;34m=\u001b[0m\u001b[0mx\u001b[0m\u001b[0;34m,\u001b[0m \u001b[0mbins\u001b[0m\u001b[0;34m=\u001b[0m\u001b[0;36m600\u001b[0m\u001b[0;34m)\u001b[0m\u001b[0;34m]\u001b[0m\u001b[0;34m)\u001b[0m\u001b[0;34m\u001b[0m\u001b[0;34m\u001b[0m\u001b[0m\n\u001b[0m\u001b[1;32m      9\u001b[0m \u001b[0mfig\u001b[0m\u001b[0;34m.\u001b[0m\u001b[0mshow\u001b[0m\u001b[0;34m(\u001b[0m\u001b[0;34m)\u001b[0m\u001b[0;34m\u001b[0m\u001b[0;34m\u001b[0m\u001b[0m\n",
      "\u001b[0;32m~/opt/anaconda3/lib/python3.7/site-packages/plotly/graph_objs/_histogram.py\u001b[0m in \u001b[0;36m__init__\u001b[0;34m(self, arg, alignmentgroup, autobinx, autobiny, bingroup, cumulative, customdata, customdatasrc, error_x, error_y, histfunc, histnorm, hoverinfo, hoverinfosrc, hoverlabel, hovertemplate, hovertemplatesrc, hovertext, hovertextsrc, ids, idssrc, legendgroup, marker, meta, metasrc, name, nbinsx, nbinsy, offsetgroup, opacity, orientation, selected, selectedpoints, showlegend, stream, text, textsrc, uid, uirevision, unselected, visible, x, xaxis, xbins, xcalendar, xsrc, y, yaxis, ybins, ycalendar, ysrc, **kwargs)\u001b[0m\n\u001b[1;32m   2454\u001b[0m         \u001b[0;31m# Process unknown kwargs\u001b[0m\u001b[0;34m\u001b[0m\u001b[0;34m\u001b[0m\u001b[0;34m\u001b[0m\u001b[0m\n\u001b[1;32m   2455\u001b[0m         \u001b[0;31m# ----------------------\u001b[0m\u001b[0;34m\u001b[0m\u001b[0;34m\u001b[0m\u001b[0;34m\u001b[0m\u001b[0m\n\u001b[0;32m-> 2456\u001b[0;31m         \u001b[0mself\u001b[0m\u001b[0;34m.\u001b[0m\u001b[0m_process_kwargs\u001b[0m\u001b[0;34m(\u001b[0m\u001b[0;34m**\u001b[0m\u001b[0mdict\u001b[0m\u001b[0;34m(\u001b[0m\u001b[0marg\u001b[0m\u001b[0;34m,\u001b[0m \u001b[0;34m**\u001b[0m\u001b[0mkwargs\u001b[0m\u001b[0;34m)\u001b[0m\u001b[0;34m)\u001b[0m\u001b[0;34m\u001b[0m\u001b[0;34m\u001b[0m\u001b[0m\n\u001b[0m\u001b[1;32m   2457\u001b[0m \u001b[0;34m\u001b[0m\u001b[0m\n\u001b[1;32m   2458\u001b[0m         \u001b[0;31m# Reset skip_invalid\u001b[0m\u001b[0;34m\u001b[0m\u001b[0;34m\u001b[0m\u001b[0;34m\u001b[0m\u001b[0m\n",
      "\u001b[0;32m~/opt/anaconda3/lib/python3.7/site-packages/plotly/basedatatypes.py\u001b[0m in \u001b[0;36m_process_kwargs\u001b[0;34m(self, **kwargs)\u001b[0m\n\u001b[1;32m   4320\u001b[0m                 \u001b[0mself\u001b[0m\u001b[0;34m[\u001b[0m\u001b[0mk\u001b[0m\u001b[0;34m]\u001b[0m \u001b[0;34m=\u001b[0m \u001b[0mv\u001b[0m\u001b[0;34m\u001b[0m\u001b[0;34m\u001b[0m\u001b[0m\n\u001b[1;32m   4321\u001b[0m             \u001b[0;32melif\u001b[0m \u001b[0;32mnot\u001b[0m \u001b[0mself\u001b[0m\u001b[0;34m.\u001b[0m\u001b[0m_skip_invalid\u001b[0m\u001b[0;34m:\u001b[0m\u001b[0;34m\u001b[0m\u001b[0;34m\u001b[0m\u001b[0m\n\u001b[0;32m-> 4322\u001b[0;31m                 \u001b[0;32mraise\u001b[0m \u001b[0merr\u001b[0m\u001b[0;34m\u001b[0m\u001b[0;34m\u001b[0m\u001b[0m\n\u001b[0m\u001b[1;32m   4323\u001b[0m         \u001b[0;31m# No need to call _raise_on_invalid_property_error here,\u001b[0m\u001b[0;34m\u001b[0m\u001b[0;34m\u001b[0m\u001b[0;34m\u001b[0m\u001b[0m\n\u001b[1;32m   4324\u001b[0m         \u001b[0;31m# because we have it set up so that the singular case of calling\u001b[0m\u001b[0;34m\u001b[0m\u001b[0;34m\u001b[0m\u001b[0;34m\u001b[0m\u001b[0m\n",
      "\u001b[0;31mValueError\u001b[0m: Invalid property specified for object of type plotly.graph_objs.Histogram: 'bins'\n\nDid you mean \"xbins\"?\n\n    Valid properties:\n        alignmentgroup\n            Set several traces linked to the same position axis or\n            matching axes to the same alignmentgroup. This controls\n            whether bars compute their positional range dependently\n            or independently.\n        autobinx\n            Obsolete: since v1.42 each bin attribute is auto-\n            determined separately and `autobinx` is not needed.\n            However, we accept `autobinx: true` or `false` and will\n            update `xbins` accordingly before deleting `autobinx`\n            from the trace.\n        autobiny\n            Obsolete: since v1.42 each bin attribute is auto-\n            determined separately and `autobiny` is not needed.\n            However, we accept `autobiny: true` or `false` and will\n            update `ybins` accordingly before deleting `autobiny`\n            from the trace.\n        bingroup\n            Set a group of histogram traces which will have\n            compatible bin settings. Note that traces on the same\n            subplot and with the same \"orientation\" under `barmode`\n            \"stack\", \"relative\" and \"group\" are forced into the\n            same bingroup, Using `bingroup`, traces under `barmode`\n            \"overlay\" and on different axes (of the same axis type)\n            can have compatible bin settings. Note that histogram\n            and histogram2d* trace can share the same `bingroup`\n        cumulative\n            :class:`plotly.graph_objects.histogram.Cumulative`\n            instance or dict with compatible properties\n        customdata\n            Assigns extra data each datum. This may be useful when\n            listening to hover, click and selection events. Note\n            that, \"scatter\" traces also appends customdata items in\n            the markers DOM elements\n        customdatasrc\n            Sets the source reference on Chart Studio Cloud for\n            customdata .\n        error_x\n            :class:`plotly.graph_objects.histogram.ErrorX` instance\n            or dict with compatible properties\n        error_y\n            :class:`plotly.graph_objects.histogram.ErrorY` instance\n            or dict with compatible properties\n        histfunc\n            Specifies the binning function used for this histogram\n            trace. If \"count\", the histogram values are computed by\n            counting the number of values lying inside each bin. If\n            \"sum\", \"avg\", \"min\", \"max\", the histogram values are\n            computed using the sum, the average, the minimum or the\n            maximum of the values lying inside each bin\n            respectively.\n        histnorm\n            Specifies the type of normalization used for this\n            histogram trace. If \"\", the span of each bar\n            corresponds to the number of occurrences (i.e. the\n            number of data points lying inside the bins). If\n            \"percent\" / \"probability\", the span of each bar\n            corresponds to the percentage / fraction of occurrences\n            with respect to the total number of sample points\n            (here, the sum of all bin HEIGHTS equals 100% / 1). If\n            \"density\", the span of each bar corresponds to the\n            number of occurrences in a bin divided by the size of\n            the bin interval (here, the sum of all bin AREAS equals\n            the total number of sample points). If *probability\n            density*, the area of each bar corresponds to the\n            probability that an event will fall into the\n            corresponding bin (here, the sum of all bin AREAS\n            equals 1).\n        hoverinfo\n            Determines which trace information appear on hover. If\n            `none` or `skip` are set, no information is displayed\n            upon hovering. But, if `none` is set, click and hover\n            events are still fired.\n        hoverinfosrc\n            Sets the source reference on Chart Studio Cloud for\n            hoverinfo .\n        hoverlabel\n            :class:`plotly.graph_objects.histogram.Hoverlabel`\n            instance or dict with compatible properties\n        hovertemplate\n            Template string used for rendering the information that\n            appear on hover box. Note that this will override\n            `hoverinfo`. Variables are inserted using %{variable},\n            for example \"y: %{y}\". Numbers are formatted using\n            d3-format's syntax %{variable:d3-format}, for example\n            \"Price: %{y:$.2f}\". https://github.com/d3/d3-3.x-api-\n            reference/blob/master/Formatting.md#d3_format for\n            details on the formatting syntax. Dates are formatted\n            using d3-time-format's syntax %{variable|d3-time-\n            format}, for example \"Day: %{2019-01-01|%A}\".\n            https://github.com/d3/d3-time-format#locale_format for\n            details on the date formatting syntax. The variables\n            available in `hovertemplate` are the ones emitted as\n            event data described at this link\n            https://plotly.com/javascript/plotlyjs-events/#event-\n            data. Additionally, every attributes that can be\n            specified per-point (the ones that are `arrayOk: true`)\n            are available. variable `binNumber` Anything contained\n            in tag `<extra>` is displayed in the secondary box, for\n            example \"<extra>{fullData.name}</extra>\". To hide the\n            secondary box completely, use an empty tag\n            `<extra></extra>`.\n        hovertemplatesrc\n            Sets the source reference on Chart Studio Cloud for\n            hovertemplate .\n        hovertext\n            Same as `text`.\n        hovertextsrc\n            Sets the source reference on Chart Studio Cloud for\n            hovertext .\n        ids\n            Assigns id labels to each datum. These ids for object\n            constancy of data points during animation. Should be an\n            array of strings, not numbers or any other type.\n        idssrc\n            Sets the source reference on Chart Studio Cloud for\n            ids .\n        legendgroup\n            Sets the legend group for this trace. Traces part of\n            the same legend group hide/show at the same time when\n            toggling legend items.\n        marker\n            :class:`plotly.graph_objects.histogram.Marker` instance\n            or dict with compatible properties\n        meta\n            Assigns extra meta information associated with this\n            trace that can be used in various text attributes.\n            Attributes such as trace `name`, graph, axis and\n            colorbar `title.text`, annotation `text`\n            `rangeselector`, `updatemenues` and `sliders` `label`\n            text all support `meta`. To access the trace `meta`\n            values in an attribute in the same trace, simply use\n            `%{meta[i]}` where `i` is the index or key of the\n            `meta` item in question. To access trace `meta` in\n            layout attributes, use `%{data[n[.meta[i]}` where `i`\n            is the index or key of the `meta` and `n` is the trace\n            index.\n        metasrc\n            Sets the source reference on Chart Studio Cloud for\n            meta .\n        name\n            Sets the trace name. The trace name appear as the\n            legend item and on hover.\n        nbinsx\n            Specifies the maximum number of desired bins. This\n            value will be used in an algorithm that will decide the\n            optimal bin size such that the histogram best\n            visualizes the distribution of the data. Ignored if\n            `xbins.size` is provided.\n        nbinsy\n            Specifies the maximum number of desired bins. This\n            value will be used in an algorithm that will decide the\n            optimal bin size such that the histogram best\n            visualizes the distribution of the data. Ignored if\n            `ybins.size` is provided.\n        offsetgroup\n            Set several traces linked to the same position axis or\n            matching axes to the same offsetgroup where bars of the\n            same position coordinate will line up.\n        opacity\n            Sets the opacity of the trace.\n        orientation\n            Sets the orientation of the bars. With \"v\" (\"h\"), the\n            value of the each bar spans along the vertical\n            (horizontal).\n        selected\n            :class:`plotly.graph_objects.histogram.Selected`\n            instance or dict with compatible properties\n        selectedpoints\n            Array containing integer indices of selected points.\n            Has an effect only for traces that support selections.\n            Note that an empty array means an empty selection where\n            the `unselected` are turned on for all points, whereas,\n            any other non-array values means no selection all where\n            the `selected` and `unselected` styles have no effect.\n        showlegend\n            Determines whether or not an item corresponding to this\n            trace is shown in the legend.\n        stream\n            :class:`plotly.graph_objects.histogram.Stream` instance\n            or dict with compatible properties\n        text\n            Sets hover text elements associated with each bar. If a\n            single string, the same string appears over all bars.\n            If an array of string, the items are mapped in order to\n            the this trace's coordinates.\n        textsrc\n            Sets the source reference on Chart Studio Cloud for\n            text .\n        uid\n            Assign an id to this trace, Use this to provide object\n            constancy between traces during animations and\n            transitions.\n        uirevision\n            Controls persistence of some user-driven changes to the\n            trace: `constraintrange` in `parcoords` traces, as well\n            as some `editable: true` modifications such as `name`\n            and `colorbar.title`. Defaults to `layout.uirevision`.\n            Note that other user-driven trace attribute changes are\n            controlled by `layout` attributes: `trace.visible` is\n            controlled by `layout.legend.uirevision`,\n            `selectedpoints` is controlled by\n            `layout.selectionrevision`, and `colorbar.(x|y)`\n            (accessible with `config: {editable: true}`) is\n            controlled by `layout.editrevision`. Trace changes are\n            tracked by `uid`, which only falls back on trace index\n            if no `uid` is provided. So if your app can add/remove\n            traces before the end of the `data` array, such that\n            the same trace has a different index, you can still\n            preserve user-driven changes if you give each trace a\n            `uid` that stays with it as it moves.\n        unselected\n            :class:`plotly.graph_objects.histogram.Unselected`\n            instance or dict with compatible properties\n        visible\n            Determines whether or not this trace is visible. If\n            \"legendonly\", the trace is not drawn, but can appear as\n            a legend item (provided that the legend itself is\n            visible).\n        x\n            Sets the sample data to be binned on the x axis.\n        xaxis\n            Sets a reference between this trace's x coordinates and\n            a 2D cartesian x axis. If \"x\" (the default value), the\n            x coordinates refer to `layout.xaxis`. If \"x2\", the x\n            coordinates refer to `layout.xaxis2`, and so on.\n        xbins\n            :class:`plotly.graph_objects.histogram.XBins` instance\n            or dict with compatible properties\n        xcalendar\n            Sets the calendar system to use with `x` date data.\n        xsrc\n            Sets the source reference on Chart Studio Cloud for  x\n            .\n        y\n            Sets the sample data to be binned on the y axis.\n        yaxis\n            Sets a reference between this trace's y coordinates and\n            a 2D cartesian y axis. If \"y\" (the default value), the\n            y coordinates refer to `layout.yaxis`. If \"y2\", the y\n            coordinates refer to `layout.yaxis2`, and so on.\n        ybins\n            :class:`plotly.graph_objects.histogram.YBins` instance\n            or dict with compatible properties\n        ycalendar\n            Sets the calendar system to use with `y` date data.\n        ysrc\n            Sets the source reference on Chart Studio Cloud for  y\n            .\n        \nDid you mean \"xbins\"?\n\nBad property path:\nbins\n^^^^"
     ]
    }
   ],
   "source": [
    "import plotly.graph_objects as go\n",
    "\n",
    "import numpy as np\n",
    "np.random.seed(1)\n",
    "\n",
    "#x = np.random.randn(500)\n",
    "\n",
    "fig = go.Figure(data=[go.Histogram(x=x, bins=600)])\n",
    "fig.show()"
   ]
  },
  {
   "cell_type": "code",
   "execution_count": null,
   "id": "valid-chile",
   "metadata": {},
   "outputs": [],
   "source": [
    "import plotly.express as px\n",
    "import numpy as np\n",
    "\n",
    "df = px.data.tips()\n",
    "# create the bins\n",
    "counts, bins = np.histogram(df.total_bill, bins=range(0, 60, 5))\n",
    "bins = 0.5 * (bins[:-1] + bins[1:])\n",
    "\n",
    "fig = px.bar(x=bins, y=counts, labels={'x':'total_bill', 'y':'count'})\n",
    "fig.show()"
   ]
  }
 ],
 "metadata": {
  "kernelspec": {
   "display_name": "Python 3",
   "language": "python",
   "name": "python3"
  },
  "language_info": {
   "codemirror_mode": {
    "name": "ipython",
    "version": 3
   },
   "file_extension": ".py",
   "mimetype": "text/x-python",
   "name": "python",
   "nbconvert_exporter": "python",
   "pygments_lexer": "ipython3",
   "version": "3.7.9"
  }
 },
 "nbformat": 4,
 "nbformat_minor": 5
}
