{
 "cells": [
  {
   "cell_type": "code",
   "execution_count": 1,
   "metadata": {},
   "outputs": [],
   "source": [
    "# Imports\n",
    "\n",
    "import sys\n",
    "import os\n",
    "from Bio import SeqIO"
   ]
  },
  {
   "cell_type": "code",
   "execution_count": 4,
   "metadata": {},
   "outputs": [],
   "source": [
    "\n",
    "NUC_FILE = \"p53/TP53_refseq_cds_nuc.fas\"\n",
    "PROT_FILE = \"p53/TP53_refseq_cds_protein.fas\"\n"
   ]
  },
  {
   "cell_type": "code",
   "execution_count": 16,
   "metadata": {},
   "outputs": [
    {
     "name": "stdout",
     "output_type": "stream",
     "text": [
      "NM_001271820_1_Danio_rerio_tumor_protein_p53_tp53_transcript_variant_1_mRNA\n",
      "XM_007483356_1_PREDICTED_Monodelphis_domestica_tumor_protein_p53_TP53_partial_mRNA\n",
      "XM_005279339_2_PREDICTED_Chrysemys_picta_bellii_tumor_protein_p53_TP53_mRNA\n",
      "XM_014261886_1_PREDICTED_Pseudopodoces_humilis_tumor_protein_p53_TP53_mRNA\n",
      "XM_005749774_1_PREDICTED_Pundamilia_nyererei_cellular_tumor_antigen_p53_like_LOC102203120_mRNA\n",
      "XM_025195179_1_PREDICTED_Alligator_sinensis_tumor_protein_p53_TP53_transcript_variant_X1_mRNA\n",
      "XM_006112136_3_PREDICTED_Pelodiscus_sinensis_tumor_protein_p53_TP53_transcript_variant_X1_mRNA\n",
      "XM_015541817_1_PREDICTED_Panthera_tigris_altaica_tumor_protein_p53_TP53_partial_mRNA\n",
      "XM_007551255_2_PREDICTED_Poecilia_formosa_tumor_protein_p53_tp53_transcript_variant_X1_mRNA\n",
      "XM_008321788_3_PREDICTED_Cynoglossus_semilaevis_tumor_protein_p53_tp53_mRNA\n",
      "XM_010571169_1_PREDICTED_Haliaeetus_leucocephalus_tumor_protein_p53_TP53_mRNA\n",
      "XM_010867924_5_PREDICTED_Esox_lucius_tumor_protein_p53_tp53_transcript_variant_X1_mRNA\n",
      "XM_014989315_1_PREDICTED_Poecilia_mexicana_tumor_protein_p53_tp53_transcript_variant_X1_mRNA\n",
      "XM_015029694_1_PREDICTED_Poecilia_latipinna_tumor_protein_p53_tp53_transcript_variant_X1_mRNA\n",
      "NM_001323800_1_Nothobranchius_furzeri_tumor_protein_p53_tp53_mRNA\n",
      "XM_031507637_1_PREDICTED_Lonchura_striata_domestica_tumor_protein_p53_TP53_mRNA\n",
      "XM_026210612_1_PREDICTED_Carassius_auratus_cellular_tumor_antigen_p53_LOC113048774_transcript_variant_X1_mRNA\n",
      "XM_030006774_1_PREDICTED_Aquila_chrysaetos_chrysaetos_tumor_protein_p53_TP53_mRNA\n",
      "XM_030187726_1_PREDICTED_Microcaecilia_unicolor_tumor_protein_p53_TP53_transcript_variant_X1_mRNA\n",
      "XM_030431663_1_PREDICTED_Sparus_aurata_cellular_tumor_antigen_p53_like_LOC115590323_transcript_variant_X1_mRNA\n",
      "XM_030474375_1_PREDICTED_Strigops_habroptila_tumor_protein_p53_TP53_transcript_variant_X1_mRNA\n",
      "XM_033084255_1_PREDICTED_Catharus_ustulatus_tumor_protein_p53_TP53_mRNA\n",
      "XM_033925416_1_PREDICTED_Geotrypetes_seraphini_tumor_protein_p53_TP53_transcript_variant_X1_mRNA\n",
      "XM_034073521_1_PREDICTED_Melopsittacus_undulatus_tumor_protein_p53_LOC117438105_mRNA\n"
     ]
    }
   ],
   "source": [
    "nuc_data = []\n",
    "\n",
    "with open(NUC_FILE, \"r\") as handle:\n",
    "        for n, record in enumerate(SeqIO.parse(handle, \"fasta\")):\n",
    "            gene_id = record.id \n",
    "            gene_desc = record.description\n",
    "            #gene_seq = str(record.seq).replace(\"-\", \"\")\n",
    "            gene_seq = str(record.seq)\n",
    "            \n",
    "            if \"-\" in gene_seq: \n",
    "                \n",
    "                print(gene_id)\n",
    "                nuc_data.append(gene_id)\n",
    "                #Remove the sequences from the nuc.fas, and the protein.fas\n",
    "                continue\n",
    "            else:\n",
    "                with open(\"p53/TP53_refseq_cds_nuc_pruned.fas\", \"a\") as fh:\n",
    "                    fh.write(\">\" + gene_id + \"\\n\" + gene_seq + \"\\n\")\n",
    "                fh.close()\n",
    "            #end if\n",
    "        #end for\n",
    "#end with\n",
    "    \n",
    "            "
   ]
  },
  {
   "cell_type": "code",
   "execution_count": 17,
   "metadata": {},
   "outputs": [
    {
     "name": "stdout",
     "output_type": "stream",
     "text": [
      "NM_001271820_1_Danio_rerio_tumor_protein_p53_tp53_transcript_variant_1_mRNA\n",
      "XM_007483356_1_PREDICTED_Monodelphis_domestica_tumor_protein_p53_TP53_partial_mRNA\n",
      "NM_001104742_1_Oryzias_latipes_tumor_protein_p53_tp53_mRNA\n",
      "XM_005279339_2_PREDICTED_Chrysemys_picta_bellii_tumor_protein_p53_TP53_mRNA\n",
      "XM_014261886_1_PREDICTED_Pseudopodoces_humilis_tumor_protein_p53_TP53_mRNA\n",
      "XM_005749774_1_PREDICTED_Pundamilia_nyererei_cellular_tumor_antigen_p53_like_LOC102203120_mRNA\n",
      "XM_025195179_1_PREDICTED_Alligator_sinensis_tumor_protein_p53_TP53_transcript_variant_X1_mRNA\n",
      "XM_006112136_3_PREDICTED_Pelodiscus_sinensis_tumor_protein_p53_TP53_transcript_variant_X1_mRNA\n",
      "XM_015541817_1_PREDICTED_Panthera_tigris_altaica_tumor_protein_p53_TP53_partial_mRNA\n",
      "XM_007551255_2_PREDICTED_Poecilia_formosa_tumor_protein_p53_tp53_transcript_variant_X1_mRNA\n",
      "XM_008321788_3_PREDICTED_Cynoglossus_semilaevis_tumor_protein_p53_tp53_mRNA\n",
      "XM_010571169_1_PREDICTED_Haliaeetus_leucocephalus_tumor_protein_p53_TP53_mRNA\n",
      "XM_010867924_5_PREDICTED_Esox_lucius_tumor_protein_p53_tp53_transcript_variant_X1_mRNA\n",
      "XM_014989315_1_PREDICTED_Poecilia_mexicana_tumor_protein_p53_tp53_transcript_variant_X1_mRNA\n",
      "XM_015029694_1_PREDICTED_Poecilia_latipinna_tumor_protein_p53_tp53_transcript_variant_X1_mRNA\n",
      "NM_001323800_1_Nothobranchius_furzeri_tumor_protein_p53_tp53_mRNA\n",
      "XM_031507637_1_PREDICTED_Lonchura_striata_domestica_tumor_protein_p53_TP53_mRNA\n",
      "XM_026210612_1_PREDICTED_Carassius_auratus_cellular_tumor_antigen_p53_LOC113048774_transcript_variant_X1_mRNA\n",
      "XM_026390537_1_PREDICTED_Urocitellus_parryii_tumor_protein_p53_Tp53_mRNA\n",
      "XM_030006774_1_PREDICTED_Aquila_chrysaetos_chrysaetos_tumor_protein_p53_TP53_mRNA\n",
      "XM_030187726_1_PREDICTED_Microcaecilia_unicolor_tumor_protein_p53_TP53_transcript_variant_X1_mRNA\n",
      "XM_030431663_1_PREDICTED_Sparus_aurata_cellular_tumor_antigen_p53_like_LOC115590323_transcript_variant_X1_mRNA\n",
      "XM_030474375_1_PREDICTED_Strigops_habroptila_tumor_protein_p53_TP53_transcript_variant_X1_mRNA\n",
      "XM_033084255_1_PREDICTED_Catharus_ustulatus_tumor_protein_p53_TP53_mRNA\n",
      "XM_033925416_1_PREDICTED_Geotrypetes_seraphini_tumor_protein_p53_TP53_transcript_variant_X1_mRNA\n",
      "XM_034073521_1_PREDICTED_Melopsittacus_undulatus_tumor_protein_p53_LOC117438105_mRNA\n"
     ]
    }
   ],
   "source": [
    "prot_data = []\n",
    "\n",
    "with open(PROT_FILE, \"r\") as handle:\n",
    "        for n, record in enumerate(SeqIO.parse(handle, \"fasta\")):\n",
    "            gene_id = record.id \n",
    "            gene_desc = record.description\n",
    "            #gene_seq = str(record.seq).replace(\"-\", \"\")\n",
    "            gene_seq = str(record.seq)\n",
    "            \n",
    "            if \"X\" in gene_seq: \n",
    "                \n",
    "                print(gene_id)\n",
    "                prot_data.append(gene_id)\n",
    "                #Remove the sequences from the nuc.fas, and the protein.fas\n",
    "                continue\n",
    "                \n",
    "            else:\n",
    "                with open(\"p53/TP53_refseq_cds_protein_pruned.fas\", \"a\") as fh:\n",
    "                    fh.write(\">\" + gene_id + \"\\n\" + gene_seq + \"\\n\")\n",
    "                fh.close()\n",
    "                \n",
    "            #end if\n",
    "        #end for\n",
    "#end with\n"
   ]
  },
  {
   "cell_type": "code",
   "execution_count": 15,
   "metadata": {},
   "outputs": [
    {
     "name": "stdout",
     "output_type": "stream",
     "text": [
      "0 NM_001271820_1_Danio_rerio_tumor_protein_p53_tp53_transcript_variant_1_mRNA # match\n",
      "1 XM_007483356_1_PREDICTED_Monodelphis_domestica_tumor_protein_p53_TP53_partial_mRNA # match\n",
      "2 XM_005279339_2_PREDICTED_Chrysemys_picta_bellii_tumor_protein_p53_TP53_mRNA # match\n",
      "3 XM_014261886_1_PREDICTED_Pseudopodoces_humilis_tumor_protein_p53_TP53_mRNA # match\n",
      "4 XM_005749774_1_PREDICTED_Pundamilia_nyererei_cellular_tumor_antigen_p53_like_LOC102203120_mRNA # match\n",
      "5 XM_025195179_1_PREDICTED_Alligator_sinensis_tumor_protein_p53_TP53_transcript_variant_X1_mRNA # match\n",
      "6 XM_006112136_3_PREDICTED_Pelodiscus_sinensis_tumor_protein_p53_TP53_transcript_variant_X1_mRNA # match\n",
      "7 XM_015541817_1_PREDICTED_Panthera_tigris_altaica_tumor_protein_p53_TP53_partial_mRNA # match\n",
      "8 XM_007551255_2_PREDICTED_Poecilia_formosa_tumor_protein_p53_tp53_transcript_variant_X1_mRNA # match\n",
      "9 XM_008321788_3_PREDICTED_Cynoglossus_semilaevis_tumor_protein_p53_tp53_mRNA # match\n",
      "10 XM_010571169_1_PREDICTED_Haliaeetus_leucocephalus_tumor_protein_p53_TP53_mRNA # match\n",
      "11 XM_010867924_5_PREDICTED_Esox_lucius_tumor_protein_p53_tp53_transcript_variant_X1_mRNA # match\n",
      "12 XM_014989315_1_PREDICTED_Poecilia_mexicana_tumor_protein_p53_tp53_transcript_variant_X1_mRNA # match\n",
      "13 XM_015029694_1_PREDICTED_Poecilia_latipinna_tumor_protein_p53_tp53_transcript_variant_X1_mRNA # match\n",
      "14 NM_001323800_1_Nothobranchius_furzeri_tumor_protein_p53_tp53_mRNA # match\n",
      "15 XM_031507637_1_PREDICTED_Lonchura_striata_domestica_tumor_protein_p53_TP53_mRNA # match\n",
      "16 XM_026210612_1_PREDICTED_Carassius_auratus_cellular_tumor_antigen_p53_LOC113048774_transcript_variant_X1_mRNA # match\n",
      "17 XM_030006774_1_PREDICTED_Aquila_chrysaetos_chrysaetos_tumor_protein_p53_TP53_mRNA # match\n",
      "18 XM_030187726_1_PREDICTED_Microcaecilia_unicolor_tumor_protein_p53_TP53_transcript_variant_X1_mRNA # match\n",
      "19 XM_030431663_1_PREDICTED_Sparus_aurata_cellular_tumor_antigen_p53_like_LOC115590323_transcript_variant_X1_mRNA # match\n",
      "20 XM_030474375_1_PREDICTED_Strigops_habroptila_tumor_protein_p53_TP53_transcript_variant_X1_mRNA # match\n",
      "21 XM_033084255_1_PREDICTED_Catharus_ustulatus_tumor_protein_p53_TP53_mRNA # match\n",
      "22 XM_033925416_1_PREDICTED_Geotrypetes_seraphini_tumor_protein_p53_TP53_transcript_variant_X1_mRNA # match\n",
      "23 XM_034073521_1_PREDICTED_Melopsittacus_undulatus_tumor_protein_p53_LOC117438105_mRNA # match\n",
      "1.0\n"
     ]
    }
   ],
   "source": [
    "count = len(nuc_data)\n",
    "\n",
    "running_count = 0\n",
    "\n",
    "for n, item in enumerate(nuc_data):\n",
    "    if item in prot_data:\n",
    "        print(n, item, \"# match\")\n",
    "        running_count += 1\n",
    "    else:\n",
    "        print(n, item, \"# No match\")\n",
    "        \n",
    "        \n",
    "    #end if\n",
    "#end for\n",
    "\n",
    "print()\n",
    "print(running_count/count) # check if they match"
   ]
  },
  {
   "cell_type": "code",
   "execution_count": null,
   "metadata": {},
   "outputs": [],
   "source": [
    "\"\"\"\n",
    "\n",
    "\n",
    "\n",
    "\n",
    "\n",
    "\n",
    "\"\"\""
   ]
  },
  {
   "cell_type": "code",
   "execution_count": 11,
   "metadata": {},
   "outputs": [
    {
     "data": {
      "text/plain": [
       "{'NM_001271820_1_Danio_rerio_tumor_protein_p53_tp53_transcript_variant_1_mRNA',\n",
       " 'NM_001323800_1_Nothobranchius_furzeri_tumor_protein_p53_tp53_mRNA',\n",
       " 'XM_005279339_2_PREDICTED_Chrysemys_picta_bellii_tumor_protein_p53_TP53_mRNA',\n",
       " 'XM_005749774_1_PREDICTED_Pundamilia_nyererei_cellular_tumor_antigen_p53_like_LOC102203120_mRNA',\n",
       " 'XM_006112136_3_PREDICTED_Pelodiscus_sinensis_tumor_protein_p53_TP53_transcript_variant_X1_mRNA',\n",
       " 'XM_007483356_1_PREDICTED_Monodelphis_domestica_tumor_protein_p53_TP53_partial_mRNA',\n",
       " 'XM_007551255_2_PREDICTED_Poecilia_formosa_tumor_protein_p53_tp53_transcript_variant_X1_mRNA',\n",
       " 'XM_008321788_3_PREDICTED_Cynoglossus_semilaevis_tumor_protein_p53_tp53_mRNA',\n",
       " 'XM_010571169_1_PREDICTED_Haliaeetus_leucocephalus_tumor_protein_p53_TP53_mRNA',\n",
       " 'XM_010867924_5_PREDICTED_Esox_lucius_tumor_protein_p53_tp53_transcript_variant_X1_mRNA',\n",
       " 'XM_014261886_1_PREDICTED_Pseudopodoces_humilis_tumor_protein_p53_TP53_mRNA',\n",
       " 'XM_014989315_1_PREDICTED_Poecilia_mexicana_tumor_protein_p53_tp53_transcript_variant_X1_mRNA',\n",
       " 'XM_015029694_1_PREDICTED_Poecilia_latipinna_tumor_protein_p53_tp53_transcript_variant_X1_mRNA',\n",
       " 'XM_015541817_1_PREDICTED_Panthera_tigris_altaica_tumor_protein_p53_TP53_partial_mRNA',\n",
       " 'XM_025195179_1_PREDICTED_Alligator_sinensis_tumor_protein_p53_TP53_transcript_variant_X1_mRNA',\n",
       " 'XM_026210612_1_PREDICTED_Carassius_auratus_cellular_tumor_antigen_p53_LOC113048774_transcript_variant_X1_mRNA',\n",
       " 'XM_030006774_1_PREDICTED_Aquila_chrysaetos_chrysaetos_tumor_protein_p53_TP53_mRNA',\n",
       " 'XM_030187726_1_PREDICTED_Microcaecilia_unicolor_tumor_protein_p53_TP53_transcript_variant_X1_mRNA',\n",
       " 'XM_030431663_1_PREDICTED_Sparus_aurata_cellular_tumor_antigen_p53_like_LOC115590323_transcript_variant_X1_mRNA',\n",
       " 'XM_030474375_1_PREDICTED_Strigops_habroptila_tumor_protein_p53_TP53_transcript_variant_X1_mRNA',\n",
       " 'XM_031507637_1_PREDICTED_Lonchura_striata_domestica_tumor_protein_p53_TP53_mRNA',\n",
       " 'XM_033084255_1_PREDICTED_Catharus_ustulatus_tumor_protein_p53_TP53_mRNA',\n",
       " 'XM_033925416_1_PREDICTED_Geotrypetes_seraphini_tumor_protein_p53_TP53_transcript_variant_X1_mRNA',\n",
       " 'XM_034073521_1_PREDICTED_Melopsittacus_undulatus_tumor_protein_p53_LOC117438105_mRNA'}"
      ]
     },
     "execution_count": 11,
     "metadata": {},
     "output_type": "execute_result"
    }
   ],
   "source": [
    "import functools \n",
    "\n",
    "set(nuc_data) & set(prot_data)"
   ]
  },
  {
   "cell_type": "code",
   "execution_count": 12,
   "metadata": {},
   "outputs": [
    {
     "name": "stdout",
     "output_type": "stream",
     "text": [
      "The lists l1 and l2 are not the same\n"
     ]
    }
   ],
   "source": [
    "if functools.reduce(lambda x, y : x and y, map(lambda p, q: p == q,nuc_data,prot_data), True): \n",
    "    print (\"The lists l1 and l2 are the same\") \n",
    "else: \n",
    "    print (\"The lists l1 and l2 are not the same\") "
   ]
  },
  {
   "cell_type": "code",
   "execution_count": null,
   "metadata": {},
   "outputs": [],
   "source": []
  }
 ],
 "metadata": {
  "kernelspec": {
   "display_name": "Python 3",
   "language": "python",
   "name": "python3"
  },
  "language_info": {
   "codemirror_mode": {
    "name": "ipython",
    "version": 3
   },
   "file_extension": ".py",
   "mimetype": "text/x-python",
   "name": "python",
   "nbconvert_exporter": "python",
   "pygments_lexer": "ipython3",
   "version": "3.7.9"
  }
 },
 "nbformat": 4,
 "nbformat_minor": 4
}
